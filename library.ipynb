{
 "metadata": {
  "language_info": {
   "codemirror_mode": {
    "name": "ipython",
    "version": 3
   },
   "file_extension": ".py",
   "mimetype": "text/x-python",
   "name": "python",
   "nbconvert_exporter": "python",
   "pygments_lexer": "ipython3",
   "version": "3.9.5"
  },
  "orig_nbformat": 4,
  "kernelspec": {
   "name": "python3",
   "display_name": "Python 3.9.5 64-bit"
  },
  "interpreter": {
   "hash": "b0fa6594d8f4cbf19f97940f81e996739fb7646882a419484c72d19e05852a7e"
  }
 },
 "nbformat": 4,
 "nbformat_minor": 2,
 "cells": [
  {
   "cell_type": "code",
   "execution_count": 2,
   "metadata": {},
   "outputs": [
    {
     "output_type": "stream",
     "name": "stdout",
     "text": [
      "1.21.0\n"
     ]
    }
   ],
   "source": [
    "import numpy as np\n",
    "print(np.__version__)"
   ]
  },
  {
   "source": [
    "### ndarray의 주요 속성\n",
    "- 형태 : ndarray.shape\n",
    "- 원소의 수 : ndarray.size\n",
    "- 저장된 데이터의 타입 : ndarray.dtype\n",
    "- 배열의 차원의 수 : ndarray.ndim"
   ],
   "cell_type": "markdown",
   "metadata": {}
  },
  {
   "cell_type": "code",
   "execution_count": 3,
   "metadata": {},
   "outputs": [
    {
     "output_type": "stream",
     "name": "stdout",
     "text": [
      "\nCreate 1D Array\n[10 20 30]\ntype =  <class 'numpy.ndarray'>\nshape: (3,), size: 3, dtype: int64, dimension: 1\n"
     ]
    }
   ],
   "source": [
    "# ndarray 생성\n",
    "data = [10,20,30]\n",
    "arr = np.array(data)\n",
    "\n",
    "# 생성한 ndarray의 속성 출력\n",
    "print('\\nCreate 1D Array')\n",
    "print(arr)\n",
    "print('type = ', type(arr))\n",
    "print(\"shape: {}, size: {}, dtype: {}, dimension: {}\"\n",
    ".format(arr.shape, arr.size, arr.dtype, arr.ndim))"
   ]
  },
  {
   "source": [
    "### np.array의 Parameters:\n",
    "- object : ndarray에 저장할 데이터\n",
    "- dtype : 배열의 데이터타입, 기본 값은 None, 생략가능"
   ],
   "cell_type": "markdown",
   "metadata": {}
  },
  {
   "cell_type": "code",
   "execution_count": 4,
   "metadata": {},
   "outputs": [
    {
     "output_type": "stream",
     "name": "stdout",
     "text": [
      "\nCreate 2D Array\n[[1 2 3]\n [4 5 6]]\ntype =  <class 'numpy.ndarray'>\nshape: (2, 3), size: 6, dtype: int64, dimension: 2\n"
     ]
    }
   ],
   "source": [
    "# 2차원 ndarray 생성\n",
    "data = [[1,2,3], [4,5,6]]\n",
    "arr = np.array(data)\n",
    "\n",
    "# 생성한 ndarray의 속성 출력\n",
    "print('\\nCreate 2D Array')\n",
    "print(arr)\n",
    "print('type = ', type(arr))\n",
    "print(\"shape: {}, size: {}, dtype: {}, dimension: {}\".format(arr.shape, arr.size, arr.dtype, arr.ndim))"
   ]
  },
  {
   "cell_type": "code",
   "execution_count": 5,
   "metadata": {},
   "outputs": [
    {
     "output_type": "stream",
     "name": "stdout",
     "text": [
      "\nCreate 2D Array\n[[1. 2. 3.]\n [4. 5. 6.]]\ntype =  <class 'numpy.ndarray'>\nshape: (2, 3), size: 6, dtype: float64, dimension: 2\n"
     ]
    }
   ],
   "source": [
    "# dtype = float로 지정\n",
    "# 2차원 ndarray 생성\n",
    "data = [[1,2,3], [4,5,6]]\n",
    "arr = np.array(data, dtype = float)\n",
    "\n",
    "# 생성한 ndarray의 속성 출력\n",
    "print('\\nCreate 2D Array')\n",
    "print(arr)\n",
    "print('type = ', type(arr))\n",
    "print(\"shape: {}, size: {}, dtype: {}, dimension: {}\".format(arr.shape, arr.size, arr.dtype, arr.ndim))"
   ]
  },
  {
   "source": [
    "### ndarray의 생성\n",
    "- np.arange()\n",
    "    - 파이썬의 range()와 동일하게 연속된 데이터를 생성하는 함수\n",
    "    - range((start), stop, (step)) # stop-1까지 / start와 step은 생략가능\n",
    "    - range(1,5), range(1, 5, 2), range(5.0)\n",
    "- np.zeros()\n",
    "    - 지정된 크기(shape)만큼 배열을 생성하고, 모든 요소를 0으로 초기화\n",
    "    - 데이터 타입(dtype)은 입력하지 않으면 기본 float 타입으로 생성됨\n",
    "    - Parameters:\n",
    "        - shape : 생성할 ndarray의 크기로 튜플() 형태로 저장해야 함\n",
    "        - dtype : 배열의 뎅이터 타입, 기본 값은 float, 생략가능\n",
    "- np.ones()\n",
    "- np.full()\n",
    "- np.empty()\n",
    "    - 초기화되지 않은 상태로 지정된 shape만큼의 ndarray 생성\n",
    "    - 요소의 초기화 과정이 없어 배열 생성 비용이 가장 빠르고 저렴함\n",
    "    - 생성된 배열의 각 요소는 임의의 값이 저장되어 있음"
   ],
   "cell_type": "markdown",
   "metadata": {}
  },
  {
   "cell_type": "code",
   "execution_count": 8,
   "metadata": {},
   "outputs": [
    {
     "output_type": "stream",
     "name": "stdout",
     "text": [
      "\n Create ndarray by np.arange()\n[2 3 4 5 6 7 8 9]\nshape: (8,), size: 8, dtype: int64, dimension: 1\n"
     ]
    }
   ],
   "source": [
    "import numpy as np\n",
    "\n",
    "def printinfo(arr):\n",
    "    print(arr)\n",
    "    print(\"shape: {}, size: {}, dtype: {}, dimension: {}\"\n",
    "    .format(arr.shape, arr.size, arr.dtype, arr.ndim))\n",
    "\n",
    "# np.arange() 를 통한 ndarray 생성\n",
    "arr = np.arange(2,10)\n",
    "print('\\n Create ndarray by np.arange()')\n",
    "printinfo(arr)"
   ]
  },
  {
   "cell_type": "code",
   "execution_count": 9,
   "metadata": {},
   "outputs": [
    {
     "output_type": "stream",
     "name": "stdout",
     "text": [
      "\n Create ndarray by np.zeros()\n[0. 0. 0. 0. 0.]\nshape: (5,), size: 5, dtype: float64, dimension: 1\n"
     ]
    }
   ],
   "source": [
    "# np.zeros()를 통한 ndarray 생성\n",
    "arr = np.zeros(5)\n",
    "print('\\n Create ndarray by np.zeros()')\n",
    "printinfo(arr)"
   ]
  },
  {
   "cell_type": "code",
   "execution_count": 11,
   "metadata": {},
   "outputs": [
    {
     "output_type": "stream",
     "name": "stdout",
     "text": [
      "\n Create ndarray by np.zeros() \n[[0 0 0 0]\n [0 0 0 0]\n [0 0 0 0]]\nshape: (3, 4), size: 12, dtype: int64, dimension: 2\n"
     ]
    }
   ],
   "source": [
    "# np.zeros() 를 통한 ndarray 생성\n",
    "arr = np.zeros((3,4), dtype=int)\n",
    "print('\\n Create ndarray by np.zeros() ')\n",
    "printinfo(arr)"
   ]
  },
  {
   "cell_type": "code",
   "execution_count": 10,
   "metadata": {},
   "outputs": [
    {
     "output_type": "stream",
     "name": "stdout",
     "text": [
      "\n Create ndarray by np.ones()\n[[1. 1. 1. 1.]\n [1. 1. 1. 1.]\n [1. 1. 1. 1.]]\nshape: (3, 4), size: 12, dtype: float64, dimension: 2\n"
     ]
    }
   ],
   "source": [
    "# np.ones() 를 통한 ndarray 생성\n",
    "arr = np.ones((3,4))\n",
    "print('\\n Create ndarray by np.ones()')\n",
    "printinfo(arr)"
   ]
  },
  {
   "cell_type": "code",
   "execution_count": 12,
   "metadata": {},
   "outputs": [
    {
     "output_type": "stream",
     "name": "stdout",
     "text": [
      "\n Create ndarray by np.full()\n[[77 77 77 77]\n [77 77 77 77]\n [77 77 77 77]]\nshape: (3, 4), size: 12, dtype: int64, dimension: 2\n"
     ]
    }
   ],
   "source": [
    "# np.full() 를 통한 ndarray 생성\n",
    "arr = np.full((3,4), 77)\n",
    "print('\\n Create ndarray by np.full()')\n",
    "printinfo(arr)"
   ]
  },
  {
   "cell_type": "code",
   "execution_count": 13,
   "metadata": {},
   "outputs": [
    {
     "output_type": "stream",
     "name": "stdout",
     "text": [
      "\n Sample\n[[1 2 3]\n [4 5 6]]\nshape: (2, 3), size: 6, dtype: int64, dimension: 2\n"
     ]
    }
   ],
   "source": [
    "# sample 데이터 생성\n",
    "data = [[1,2,3], [4,5,6]]\n",
    "sample = np.array(data)\n",
    "print('\\n Sample')\n",
    "printinfo(sample)"
   ]
  },
  {
   "cell_type": "code",
   "execution_count": 14,
   "metadata": {},
   "outputs": [
    {
     "output_type": "stream",
     "name": "stdout",
     "text": [
      "\n Create ndarray by np.ones_like()\n[[1 1 1]\n [1 1 1]]\nshape: (2, 3), size: 6, dtype: int64, dimension: 2\n"
     ]
    }
   ],
   "source": [
    "# ones_like() 를 통한 ndarray 생성\n",
    "one_array = np.ones_like(sample)\n",
    "print('\\n Create ndarray by np.ones_like()')\n",
    "printinfo(one_array)"
   ]
  },
  {
   "source": [
    "- np.int64 : (64비트)정수\n",
    "- np.float64 : (64비트) 실수\n",
    "- np.complex : 복소수\n",
    "- np.bool : 불리언(True, False)\n",
    "- np.object : 파이썬 객체\n",
    "- np.str : 문자열"
   ],
   "cell_type": "markdown",
   "metadata": {}
  },
  {
   "source": [
    "## 데이터 타입 변경\n",
    "### 방법 1) ndarray 생성시 인자로 dtype 지정하는 방식"
   ],
   "cell_type": "markdown",
   "metadata": {}
  },
  {
   "cell_type": "code",
   "execution_count": 15,
   "metadata": {},
   "outputs": [],
   "source": [
    "# 3차원 ndarray 생성\n",
    "data = [[[1,2,3],[4,5,6]], [[3,2,1],[4,5,6]]]\n",
    "arr = np.array(data, dtype = float)"
   ]
  },
  {
   "cell_type": "code",
   "execution_count": 16,
   "metadata": {},
   "outputs": [
    {
     "output_type": "stream",
     "name": "stdout",
     "text": [
      "Complex:  [1.+0.j 2.+0.j 3.+0.j]\n",
      "String:  ['1' '2' '3']\n",
      "<ipython-input-16-31893a38c4ad>:5: DeprecationWarning: `np.complex` is a deprecated alias for the builtin `complex`. To silence this warning, use `complex` by itself. Doing this will not modify any behavior and is safe. If you specifically wanted the numpy scalar type, use `np.complex128` here.\n",
      "Deprecated in NumPy 1.20; for more details and guidance: https://numpy.org/devdocs/release/1.20.0-notes.html#deprecations\n",
      "  cpx_arr = np.array(data, dtype=np.complex)\n",
      "<ipython-input-16-31893a38c4ad>:6: DeprecationWarning: `np.str` is a deprecated alias for the builtin `str`. To silence this warning, use `str` by itself. Doing this will not modify any behavior and is safe. If you specifically wanted the numpy scalar type, use `np.str_` here.\n",
      "Deprecated in NumPy 1.20; for more details and guidance: https://numpy.org/devdocs/release/1.20.0-notes.html#deprecations\n",
      "  str_arr = np.array(data, dtype=np.str)\n"
     ]
    }
   ],
   "source": [
    "import numpy as np\n",
    "\n",
    "# dtype 인자 지정을 통한 데이터 타입 변경\n",
    "data = [1,2,3]\n",
    "cpx_arr = np.array(data, dtype=np.complex)\n",
    "str_arr = np.array(data, dtype=np.str)\n",
    "\n",
    "print('Complex: ', cpx_arr)\n",
    "print('String: ', str_arr)"
   ]
  },
  {
   "source": [
    "### 방법 2) ndarray.astype(dtype)\n",
    "- ndarray 에 저장된 데이터를 주어진 dtype으로 변환해서 반환함\n",
    "- Parameters:\n",
    "    - dtype : 변경하고자 하는 배열의 데이터 타입"
   ],
   "cell_type": "markdown",
   "metadata": {}
  },
  {
   "cell_type": "code",
   "execution_count": 17,
   "metadata": {},
   "outputs": [
    {
     "output_type": "stream",
     "name": "stdout",
     "text": [
      "\n Original data\n[1.  1.2 1.4 1.6 1.8]\ndtype :  float64\n"
     ]
    }
   ],
   "source": [
    "# 샘플 데이터 생성\n",
    "origin = np.arange(1, 2, 0.2)\n",
    "print('\\n Original data')\n",
    "print(origin)\n",
    "print('dtype : ', origin.dtype)"
   ]
  },
  {
   "cell_type": "code",
   "execution_count": 18,
   "metadata": {},
   "outputs": [
    {
     "output_type": "stream",
     "name": "stdout",
     "text": [
      "\n Result of astype(int)\n[1 1 1 1 1]\n\n Original data\n[1.  1.2 1.4 1.6 1.8]\n"
     ]
    }
   ],
   "source": [
    "# astype(dtype) 을 활용한 데이터 타입 변경\n",
    "result = origin.astype(int)\n",
    "print('\\n Result of astype(int)')\n",
    "print(result)\n",
    "\n",
    "print('\\n Original data')\n",
    "print(origin)"
   ]
  },
  {
   "source": [
    "### np.reshape(array, newshape)\n",
    "- 기존 데이터는 유지하면서 차원과 shape 만을 바꾼 배열을 반환\n",
    "- Parameters:\n",
    "    - array : reshape 할 ndarray\n",
    "    - newshape : 변경하고자 하는 shape 값(튜플 형태)"
   ],
   "cell_type": "markdown",
   "metadata": {}
  },
  {
   "cell_type": "code",
   "execution_count": 20,
   "metadata": {},
   "outputs": [
    {
     "output_type": "stream",
     "name": "stdout",
     "text": [
      "\n Original ndarray\n[ 0  1  2  3  4  5  6  7  8  9 10 11 12 13 14]\nshape: (15,), size: 15, dtype: int64, dimension: 1\n"
     ]
    }
   ],
   "source": [
    "import numpy as np\n",
    "\n",
    "# ndarray 속성 출력 함수\n",
    "def printinfo(arr):\n",
    "    print(arr)\n",
    "    print(\"shape: {}, size: {}, dtype: {}, dimension: {}\".format(arr.shape, arr.size, arr.dtype, arr.ndim))\n",
    "\n",
    "# 샘플 데이터 생성\n",
    "origin_arr = np.arange(15)\n",
    "print('\\n Original ndarray')\n",
    "printinfo(origin_arr)"
   ]
  },
  {
   "cell_type": "code",
   "execution_count": 22,
   "metadata": {},
   "outputs": [
    {
     "output_type": "stream",
     "name": "stdout",
     "text": [
      "\nReshape ndarray\n[[ 0  1  2  3  4]\n [ 5  6  7  8  9]\n [10 11 12 13 14]]\nshape: (3, 5), size: 15, dtype: int64, dimension: 2\n"
     ]
    }
   ],
   "source": [
    "# reshape() 을 활용한 데이터 형상 변경\n",
    "reshape_arr = np.reshape(origin_arr, (3,5))\n",
    "print('\\nReshape ndarray')\n",
    "printinfo(reshape_arr)"
   ]
  },
  {
   "source": [
    "reshape(-1, N)\n",
    "- 기존 데이터를 유지하면서, shape을 변경하는 방식\n",
    "- shape은 주어진 N에 따라 자동으로 추정되어 변경됨\n",
    "- -1 의 자리는 가변적"
   ],
   "cell_type": "markdown",
   "metadata": {}
  },
  {
   "source": [
    "## Numpy 의 주요 특징\n",
    "- 대규모의 고성능 수치 계산을 위한 python library\n",
    "    -> 연산속도가 빠르고, 메모리를 효율적으로 사용\n",
    "- N차원의 배열을 효율적으로 다룰 수 있는 라이브러리\n",
    "    -> 반복문 작성 필요 없이 N차원의 데이터 배열을 바로 연산할 수 있음\n",
    "\n",
    "### Numpy의 기본 연산\n",
    "- 연산자를 이용해 직관적인 배열 연산 가능\n",
    "- 모든 연산은 배열의 각 요소별로 적용됨(element-wise)\n",
    "- 모든 산술 연산 함수는 Numpy 모듈에 구현되어 있음\n",
    "\n",
    "### Numpy의 사칙 연산\n",
    "- numpy.add() 또는 +연산자\n",
    "- numpy.subtract() 또는 -연산자\n",
    "- numpy.divide() 또는 /연산자\n",
    "- numpy.multiply() 또는 *연산자"
   ],
   "cell_type": "markdown",
   "metadata": {}
  },
  {
   "cell_type": "code",
   "execution_count": 23,
   "metadata": {},
   "outputs": [
    {
     "output_type": "stream",
     "name": "stdout",
     "text": [
      "\nA---\n[[1 2 3]\n [4 5 6]\n [7 8 9]]\n\nB---\n[[9 8 7]\n [6 5 4]\n [3 2 1]]\n"
     ]
    }
   ],
   "source": [
    "import numpy as np\n",
    "import time\n",
    "\n",
    "# 샘플 데이터 생성\n",
    "a = np.arange(1,10).reshape(3,3)\n",
    "print('\\nA---')\n",
    "print(a)\n",
    "\n",
    "b = np.arange(9,0,-1).reshape(3,3)\n",
    "print('\\nB---')\n",
    "print(b)"
   ]
  },
  {
   "cell_type": "code",
   "execution_count": 24,
   "metadata": {},
   "outputs": [
    {
     "output_type": "stream",
     "name": "stdout",
     "text": [
      "\nResult of A + B\n[[10 10 10]\n [10 10 10]\n [10 10 10]]\n\nResult of np.add(a,b\n[[10 10 10]\n [10 10 10]\n [10 10 10]]\n"
     ]
    }
   ],
   "source": [
    "# np.add(x1, x2)\n",
    "result = a + b\n",
    "print('\\nResult of A + B')\n",
    "print(result)\n",
    "\n",
    "result = np.add(a,b)\n",
    "print('\\nResult of np.add(a,b)')\n",
    "print(result)"
   ]
  },
  {
   "cell_type": "code",
   "execution_count": 27,
   "metadata": {},
   "outputs": [
    {
     "output_type": "stream",
     "name": "stdout",
     "text": [
      "Sample\n[[1 2 3]\n [4 5 6]\n [7 8 9]]\n\n[CASE-1] axis=None\nsum :  45\nmean:  5.0\nstd:  2.581988897471611\nmax:  9\nmin:  1\n"
     ]
    }
   ],
   "source": [
    "import numpy as np\n",
    "\n",
    "# 샘플 데이터 생성\n",
    "sample = np.arange(1,10).reshape(3,3)\n",
    "print('Sample')\n",
    "print(sample)\n",
    "\n",
    "# axis=None 실습 (default)\n",
    "# 대상 ndarray의 모든 요소가 연산 대상이 됨\n",
    "# Default 값이므로 집계 함수 호출시 생략 가능\n",
    "print('\\n[CASE-1] axis=None')\n",
    "print('sum : ', sample.sum())\n",
    "print('mean: ', sample.mean())\n",
    "print('std: ', sample.std())\n",
    "print('max: ', sample.max())\n",
    "print('min: ', sample.min())"
   ]
  },
  {
   "cell_type": "code",
   "execution_count": 29,
   "metadata": {},
   "outputs": [
    {
     "output_type": "stream",
     "name": "stdout",
     "text": [
      "\n[CASE-2] axis=0\nsum :  [12 15 18]\nmean:  [4. 5. 6.]\nstd:  [2.44948974 2.44948974 2.44948974]\nmax:  [7 8 9]\nmin:  [1 2 3]\n"
     ]
    }
   ],
   "source": [
    "# axis=0 실습\n",
    "print('\\n[CASE-2] axis=0')\n",
    "print('sum : ', sample.sum(axis=0))\n",
    "print('mean: ', sample.mean(axis=0))\n",
    "print('std: ', sample.std(axis=0))\n",
    "print('max: ', sample.max(axis=0))\n",
    "print('min: ', sample.min(axis=0))"
   ]
  },
  {
   "cell_type": "code",
   "execution_count": 30,
   "metadata": {},
   "outputs": [
    {
     "output_type": "stream",
     "name": "stdout",
     "text": [
      "\n[CASE-3] axis=1\nsum :  [ 6 15 24]\nmean:  [2. 5. 8.]\nstd:  [0.81649658 0.81649658 0.81649658]\nmax:  [3 6 9]\nmin:  [1 4 7]\n"
     ]
    }
   ],
   "source": [
    "# axis=1 실습\n",
    "print('\\n[CASE-3] axis=1')\n",
    "print('sum : ', sample.sum(axis=1))\n",
    "print('mean: ', sample.mean(axis=1))\n",
    "print('std: ', sample.std(axis=1))\n",
    "print('max: ', sample.max(axis=1))\n",
    "print('min: ', sample.min(axis=1))"
   ]
  },
  {
   "cell_type": "code",
   "execution_count": 31,
   "metadata": {},
   "outputs": [
    {
     "output_type": "stream",
     "name": "stdout",
     "text": [
      "1D-Array Sampe:  [ 5  6  7  8  9 10 11 12 13 14]\nsample[3] =  8\n"
     ]
    }
   ],
   "source": [
    "import numpy as np\n",
    "\n",
    "# 1차원 샘플 데이터 생성\n",
    "sample = np.arange(5,15)\n",
    "print('1D-Array Sampe: ', sample)\n",
    "print('sample[3] = ', sample[3])"
   ]
  },
  {
   "cell_type": "code",
   "execution_count": 33,
   "metadata": {},
   "outputs": [
    {
     "output_type": "stream",
     "name": "stdout",
     "text": [
      "1D-Array Sample :  [ 5  6  7  0  9 10 11 12 13 14]\n"
     ]
    }
   ],
   "source": [
    "# 3번째 인덱스 값 변경 후 출력\n",
    "sample[3] = 0\n",
    "print('1D-Array Sample : ', sample)"
   ]
  },
  {
   "cell_type": "code",
   "execution_count": 35,
   "metadata": {},
   "outputs": [
    {
     "output_type": "stream",
     "name": "stdout",
     "text": [
      "\n2D-Array Indexing\n[[ 0  1  2  3]\n [ 4  5  6  7]\n [ 8  9 10 11]\n [12 13 14 15]]\nsample[2,3] =  11\n[[ 0  1  2  3]\n [ 4  5  6  7]\n [ 8  9 10  0]\n [12 13 14 15]]\n"
     ]
    }
   ],
   "source": [
    "# 2차원 샘플 데이터 생성 및 [2,3] 조회\n",
    "sample = np.arange(16).reshape((4,4))\n",
    "print('\\n2D-Array Indexing')\n",
    "print(sample)\n",
    "print('sample[2,3] = ', sample[2,3])\n",
    "\n",
    "# 인덱싱 값 변경 후 출력\n",
    "sample[2,3] = 0\n",
    "print(sample)"
   ]
  },
  {
   "cell_type": "code",
   "execution_count": 36,
   "metadata": {},
   "outputs": [
    {
     "output_type": "stream",
     "name": "stdout",
     "text": [
      "\n3D-Array Indexing\n[[[ 0  1]\n  [ 2  3]]\n\n [[ 4  5]\n  [ 6  7]]\n\n [[ 8  9]\n  [10 11]]\n\n [[12 13]\n  [14 15]]]\nsample[1,1,1] =  7\n"
     ]
    }
   ],
   "source": [
    "# 3차원 샘플 데이터 생성\n",
    "sample = np.arange(16).reshape((4,2,2))\n",
    "print('\\n3D-Array Indexing')\n",
    "print(sample)\n",
    "print('sample[1,1,1] = ', sample[1,1,1])"
   ]
  },
  {
   "cell_type": "code",
   "execution_count": 38,
   "metadata": {},
   "outputs": [
    {
     "output_type": "stream",
     "name": "stdout",
     "text": [
      "1D-Array Sample\n[2 5 8 1]\n"
     ]
    }
   ],
   "source": [
    "import numpy as np\n",
    "\n",
    "# 샘플 데이터 생성\n",
    "sample = np.array([2,5,8,1])\n",
    "print('1D-Array Sample')\n",
    "print(sample)"
   ]
  },
  {
   "cell_type": "code",
   "execution_count": 39,
   "metadata": {},
   "outputs": [
    {
     "output_type": "stream",
     "name": "stdout",
     "text": [
      "\n Result of np.sort\nResult :  [1 2 5 8]\nOriginal :  [2 5 8 1]\n"
     ]
    }
   ],
   "source": [
    "# np.sort() 정렬\n",
    "result = np.sort(sample)\n",
    "print('\\n Result of np.sort')\n",
    "print('Result : ', result)\n",
    "print('Original : ', sample)"
   ]
  },
  {
   "source": [
    "np.sort(array)\n",
    "- 기본적으로 오름차순 정렬만 지원함\n",
    "- 정렬된 결과를 반환하지만, 원본 데이터는 변경하지 않음\n",
    "\n",
    "### 원본 데이터를 변경하려면?\n",
    "- ndarray.sort(): 원본 데이터를 변경하고 none값을 반환\n",
    "\n",
    "np.sort(array, axis)\n",
    "- 기본적으로 오름차순 정렬만 지원함\n",
    "- 정렬된 결과를 반환하지만, 원본 데이터는 변경하지 않음\n",
    "- 2차원 데이터의 정렬시에는 axis를 통해 집계 방향 결정됨"
   ],
   "cell_type": "markdown",
   "metadata": {}
  },
  {
   "cell_type": "code",
   "execution_count": 40,
   "metadata": {},
   "outputs": [
    {
     "output_type": "stream",
     "name": "stdout",
     "text": [
      "\n2D-Array Sample\n[[ 9 11]\n [ 5  1]]\n"
     ]
    }
   ],
   "source": [
    "# 샘플 데이터 생성\n",
    "sample = np.array([[9,11], [5,1]])\n",
    "print('\\n2D-Array Sample')\n",
    "print(sample)"
   ]
  },
  {
   "cell_type": "code",
   "execution_count": 41,
   "metadata": {},
   "outputs": [
    {
     "output_type": "stream",
     "name": "stdout",
     "text": [
      "\nnp.sort(axis=0) : \n[[ 5  1]\n [ 9 11]]\n"
     ]
    }
   ],
   "source": [
    "# 2차원 배열 정렬 by axis = 0\n",
    "result = np.sort(sample, axis=0)\n",
    "print('\\nnp.sort(axis=0) : ')\n",
    "print(result)"
   ]
  },
  {
   "cell_type": "code",
   "execution_count": 42,
   "metadata": {},
   "outputs": [
    {
     "output_type": "stream",
     "name": "stdout",
     "text": [
      "\nnp.sort(axis=2) : \n[[ 9 11]\n [ 1  5]]\n"
     ]
    }
   ],
   "source": [
    "# 2차원 배열 정렬 by axis = 1\n",
    "result = np.sort(sample, axis=1)\n",
    "print('\\nnp.sort(axis=2) : ')\n",
    "print(result)"
   ]
  },
  {
   "cell_type": "code",
   "execution_count": 44,
   "metadata": {},
   "outputs": [],
   "source": [
    "# 샘플 데이터 생성\n",
    "name = np.array(['John', 'Samuel', 'Kate', 'Mike', 'Sarah'])\n",
    "score = np.array([78,84,96,88,82])"
   ]
  },
  {
   "source": [
    "### np.argsort(array)\n",
    "- 오름차순 정렬된 배열의 인덱스 값만 반환하는 함수"
   ],
   "cell_type": "markdown",
   "metadata": {}
  },
  {
   "cell_type": "code",
   "execution_count": 46,
   "metadata": {},
   "outputs": [
    {
     "output_type": "stream",
     "name": "stdout",
     "text": [
      "\nnp.argsort()\nsort indexes :  [0 4 1 3 2]\nsort values :  ['John' 'Sarah' 'Samuel' 'Mike' 'Kate']\n"
     ]
    }
   ],
   "source": [
    "# np.argsort() 를 통해 정렬된 인덱스 값만 반환\n",
    "sort_indexes = np.argsort(score)\n",
    "print('\\nnp.argsort()')\n",
    "print('sort indexes : ', sort_indexes)\n",
    "# 인덱스 값을 통해 컬럼명 조회\n",
    "print('sort values : ', name[sort_indexes])"
   ]
  },
  {
   "source": [
    "### Series 자료구조\n",
    "- 1차원 배열의 자료구조\n",
    "- 인덱스를 통한 데이터 접근 가능\n",
    "- 동일한 데이터 타입의 값을 저장할 수 있음"
   ],
   "cell_type": "markdown",
   "metadata": {}
  },
  {
   "cell_type": "code",
   "execution_count": 50,
   "metadata": {},
   "outputs": [
    {
     "output_type": "stream",
     "name": "stdout",
     "text": [
      "1.2.5\n"
     ]
    }
   ],
   "source": [
    "import pandas as pd\n",
    "print(pd.__version__)"
   ]
  },
  {
   "source": [
    "### pd.Series(data)\n",
    "- 리스트, 튜플, 딕셔너리 등의 파이썬 객체를 data 인자로 전달해 생성\n",
    "- pd.Series() 호출 시 대문자 주의 필요"
   ],
   "cell_type": "markdown",
   "metadata": {}
  },
  {
   "cell_type": "code",
   "execution_count": 51,
   "metadata": {},
   "outputs": [
    {
     "output_type": "stream",
     "name": "stdout",
     "text": [
      "\nType:  <class 'pandas.core.series.Series'>\n0    2019\n1    2020\n2    2021\n3    2022\ndtype: object\n"
     ]
    }
   ],
   "source": [
    "# 리스트 데이터로 Series 객체 생성\n",
    "year = ['2019', '2020', '2021', '2022']\n",
    "result = pd.Series(data=year)\n",
    "\n",
    "print('\\nType: ', type(result))\n",
    "print(result)"
   ]
  },
  {
   "source": [
    "- 변수명.index : 개별 데이터를 고유하게 식별하는 일종의 key 값\n",
    "- 변수명.values : Series 객체 내 모든 데이터 값\n",
    "- 변수명.dtype : Series 객체에 저장된 데이터의 타입\n",
    "- 변수명.shape : Series 객체의 모양"
   ],
   "cell_type": "markdown",
   "metadata": {}
  },
  {
   "source": [
    "### Series의 생성\n",
    "pd.Series(data, index, name)\n",
    "- index : Series 객체 생성시 index 설정\n",
    "- name : Series 객체 생성시 이름 지정"
   ],
   "cell_type": "markdown",
   "metadata": {}
  },
  {
   "cell_type": "code",
   "execution_count": 52,
   "metadata": {},
   "outputs": [
    {
     "output_type": "stream",
     "name": "stdout",
     "text": [
      "a    2019\nb    2020\nc    2021\nd    2022\nName: Year, dtype: object\n"
     ]
    }
   ],
   "source": [
    "# 인덱스 추가하여 Series 객체 생성하기\n",
    "year = ['2019', '2020', '2021', '2022']\n",
    "idx = ['a', 'b', 'c', 'd']\n",
    "\n",
    "result = pd.Series(data=year, index=idx, name='Year')\n",
    "print(result)"
   ]
  },
  {
   "cell_type": "code",
   "execution_count": 53,
   "metadata": {},
   "outputs": [
    {
     "output_type": "stream",
     "name": "stdout",
     "text": [
      "Kim     85\nHan     89\nLee     99\nChoi    70\nName: Score, dtype: int64\n"
     ]
    }
   ],
   "source": [
    "# 딕셔너리 데이터로 Series 객체 생성\n",
    "score = {'Kim' : 85, 'Han': 89, 'Lee':99, 'Choi' : 70}\n",
    "result = pd.Series(data=score, name='Score')\n",
    "print(result)"
   ]
  },
  {
   "source": [
    "## DataFrame 자료구조\n",
    "- 행과 열을 가진 2차원 자료 구조\n",
    "- 데이터와 행/열에 대한 인덱스가 저장됨\n",
    "- 각 칼럼은 서로 다른 데이터 타입으로 구성될 수 있음\n",
    "- 1개의 칼럼은 Series 객체로 구성됨\n",
    "\n",
    "### DataFrame 객체 생성\n",
    "pd.DataFrame(data)\n",
    "- 다양한 형태로 저장된 파이썬 객체를 전달해 DataFrame 생성\n",
    "    - Series 객체\n",
    "    - 중첩된 딕셔너리 객체\n",
    "    - 딕셔너리의 리스트\n",
    "    - 리스트, 튜플의 리스트\n",
    "    - ndarray"
   ],
   "cell_type": "markdown",
   "metadata": {}
  },
  {
   "cell_type": "code",
   "execution_count": 54,
   "metadata": {},
   "outputs": [
    {
     "output_type": "stream",
     "name": "stdout",
     "text": [
      "<class 'pandas.core.frame.DataFrame'>\n    name  score grade\n0  Jessi    100     A\n1   Emma     95     A\n2   Alex     80     B\n3    Tom     85     B\n"
     ]
    }
   ],
   "source": [
    "# 파이썬 딕셔너리 객체를 이용해 DataFrame 객체 생성\n",
    "import pandas as pd\n",
    "\n",
    "score = {'name':['Jessi','Emma','Alex','Tom'],\n",
    "'score':[100,95,80,85],\n",
    "'grade':['A','A','B','B']}\n",
    "\n",
    "df = pd.DataFrame(data=score)\n",
    "print(type(df))\n",
    "print(df)"
   ]
  },
  {
   "source": [
    "# DataFrame 주요 속성 실습\n",
    "print('-Index: ', df.index)\n",
    "print('-Columns:', df.columns)\n",
    "print('-Values:\\n', df.values)"
   ],
   "cell_type": "code",
   "metadata": {},
   "execution_count": 55,
   "outputs": [
    {
     "output_type": "stream",
     "name": "stdout",
     "text": [
      "-Index:  RangeIndex(start=0, stop=4, step=1)\n-Columns: Index(['name', 'score', 'grade'], dtype='object')\n-Values:\n [['Jessi' 100 'A']\n ['Emma' 95 'A']\n ['Alex' 80 'B']\n ['Tom' 85 'B']]\n"
     ]
    }
   ]
  },
  {
   "cell_type": "code",
   "execution_count": 56,
   "metadata": {},
   "outputs": [
    {
     "output_type": "stream",
     "name": "stdout",
     "text": [
      "-DTypes:\n name     object\nscore     int64\ngrade    object\ndtype: object\n-Shape:  (4, 3)\n"
     ]
    }
   ],
   "source": [
    "print('-DTypes:\\n', df.dtypes)\n",
    "print('-Shape: ', df.shape)"
   ]
  },
  {
   "cell_type": "code",
   "execution_count": 59,
   "metadata": {},
   "outputs": [
    {
     "output_type": "stream",
     "name": "stdout",
     "text": [
      "   score grade   name email\na    100     A  Jessi   NaN\nb     95     A   Emma   NaN\nc     80     B   Alex   NaN\nd     85     B    Tom   NaN\n"
     ]
    }
   ],
   "source": [
    "# index, columns 지정해 DataFrame 생성\n",
    "score = {'name':['Jessi','Emma','Alex','Tom'],\n",
    "'score':[100,95,80,85],\n",
    "'grade':['A','A','B','B']}\n",
    "i = ['a','b','c','d']\n",
    "c = ['score', 'grade', 'name','email']\n",
    "\n",
    "df = pd.DataFrame(data=score, index=i, columns=c)\n",
    "print(df)"
   ]
  },
  {
   "source": [
    "### DataFrame 데이터 살펴보기\n",
    "- df.info()\n",
    "- df.head()\n",
    "- df.tail()\n",
    "- df.sample()"
   ],
   "cell_type": "markdown",
   "metadata": {}
  },
  {
   "cell_type": "code",
   "execution_count": 60,
   "metadata": {},
   "outputs": [
    {
     "output_type": "stream",
     "name": "stdout",
     "text": [
      "    name  score grade subject\n0  Jessi    100     A  python\n1   Emma     95     A    java\n2   Alex     80     B  python\n3  Jessi     85     B       c\n4    Tom     97     A    java\n"
     ]
    }
   ],
   "source": [
    "# 실습 데이터 생성\n",
    "import pandas as pd\n",
    "\n",
    "score = {'name':['Jessi', 'Emma', 'Alex', 'Jessi', 'Tom'],\n",
    "'score':[100,95,80,85,97],\n",
    "'grade':['A', 'A', 'B', 'B', 'A'],\n",
    "'subject':['python', 'java', 'python', 'c', 'java']}\n",
    "\n",
    "score_df = pd.DataFrame(data=score)\n",
    "print(score_df)"
   ]
  },
  {
   "cell_type": "code",
   "execution_count": 77,
   "metadata": {},
   "outputs": [
    {
     "output_type": "stream",
     "name": "stdout",
     "text": [
      "<class 'pandas.core.frame.DataFrame'>\nRangeIndex: 5 entries, 0 to 4\nData columns (total 4 columns):\n #   Column   Non-Null Count  Dtype \n---  ------   --------------  ----- \n 0   name     5 non-null      object\n 1   score    5 non-null      int64 \n 2   grade    5 non-null      object\n 3   subject  5 non-null      object\ndtypes: int64(1), object(3)\nmemory usage: 288.0+ bytes\nNone\n\\---------\n\n    name  score grade subject\n0  Jessi    100     A  python\n1   Emma     95     A    java\n2   Alex     80     B  python\n\\---------\n\n    name  score grade subject\n2   Alex     80     B  python\n3  Jessi     85     B       c\n4    Tom     97     A    java\n\\---------\n\n    name  score grade subject\n3  Jessi     85     B       c\n\\---------\n\n    name  score grade subject\n2   Alex     80     B  python\n3  Jessi     85     B       c\n"
     ]
    }
   ],
   "source": [
    "print(score_df.info())\n",
    "print('\\---------\\n')\n",
    "print(score_df.head(3))\n",
    "print('\\---------\\n')\n",
    "print(score_df.tail(3))\n",
    "print('\\---------\\n')\n",
    "print(score_df.sample())\n",
    "print('\\---------\\n')\n",
    "print(score_df.sample(2, random_state=10))"
   ]
  },
  {
   "source": [
    "df.sample(frac)\n",
    "- 임의의 행 데이터 n개를 랜덤하게 반환해주는 함수\n",
    "- frac 지정된 비중에 따라 일부 데이터를 반환함(fraction)\n",
    "- frac 인자는 0~1 값으로 지정할 수 있음\n",
    "- frac 과 n 인자는 동시에 사용할 수 없음"
   ],
   "cell_type": "markdown",
   "metadata": {}
  },
  {
   "cell_type": "code",
   "execution_count": 78,
   "metadata": {},
   "outputs": [
    {
     "output_type": "stream",
     "name": "stdout",
     "text": [
      "\n <Return a random sample with frac 50%>\n    name  score grade subject\n2   Alex     80     B  python\n3  Jessi     85     B       c\n"
     ]
    }
   ],
   "source": [
    "# .sample() 함수의 frac 인자 실습\n",
    "print('\\n <Return a random sample with frac 50%>')\n",
    "print(score_df.sample(frac=0.5))"
   ]
  },
  {
   "source": [
    "### 수치형(Numerical) 데이터\n",
    "- 관측된 값이 수치로 측정되는 데이터로 '연속형' 데이터라고도 함\n",
    "- 값의 평균, 중앙값, 표준편차 등과 같은 접근이 의미가 있는 데이터\n",
    "### 범주형(Categorical) 데이터\n",
    "- 범주 또는 항목의 형태로 표현되는 데이터"
   ],
   "cell_type": "markdown",
   "metadata": {}
  },
  {
   "source": [
    "df.describe()\n",
    "- 연산이 가능한 데이터에 대해서\n",
    "- 기술 통계(descriptive statistics) 요약을 출력하는 함수\n",
    "- 기술 통계란? 수집한 데이터의 특성을 표현하고 분석하는 통계 기법"
   ],
   "cell_type": "markdown",
   "metadata": {}
  },
  {
   "cell_type": "code",
   "execution_count": 81,
   "metadata": {},
   "outputs": [
    {
     "output_type": "stream",
     "name": "stdout",
     "text": [
      "    name  age  score grade subject\n0  Jessi   20    100     A  python\n1   Emma   24     95     A    java\n2   Alex   23     80     B  python\n3  Jessi   20     85     B       c\n4    Tom   27     97     A    java\n"
     ]
    }
   ],
   "source": [
    "# 실습 데이터 생성\n",
    "import pandas as pd\n",
    "\n",
    "score = {'name':['Jessi', 'Emma', 'Alex', 'Jessi', 'Tom'],\n",
    "'age':[20,24,23,20,27],\n",
    "'score':[100,95,80,85,97],\n",
    "'grade':['A', 'A', 'B', 'B', 'A'],\n",
    "'subject':['python', 'java', 'python', 'c', 'java']}\n",
    "\n",
    "score_df = pd.DataFrame(data=score)\n",
    "print(score_df)"
   ]
  },
  {
   "source": [
    "print(\"\\n Generate Descriptive Statistics\")\n",
    "print(score_df.describe())"
   ],
   "cell_type": "code",
   "metadata": {},
   "execution_count": 82,
   "outputs": [
    {
     "output_type": "stream",
     "name": "stdout",
     "text": [
      "\n Generate Descriptive Statistics\n             age       score\ncount   5.000000    5.000000\nmean   22.800000   91.400000\nstd     2.949576    8.502941\nmin    20.000000   80.000000\n25%    20.000000   85.000000\n50%    23.000000   95.000000\n75%    24.000000   97.000000\nmax    27.000000  100.000000\n"
     ]
    }
   ]
  },
  {
   "cell_type": "code",
   "execution_count": 83,
   "metadata": {},
   "outputs": [
    {
     "output_type": "stream",
     "name": "stdout",
     "text": [
      "\n Generate Descriptive Statistics for Categorical\n       grade subject\ncount      5       5\nunique     2       3\ntop        A    java\nfreq       3       2\n"
     ]
    }
   ],
   "source": [
    "print(\"\\n Generate Descriptive Statistics for Categorical\")\n",
    "print(score_df[['grade', 'subject']].describe())"
   ]
  },
  {
   "cell_type": "code",
   "execution_count": 84,
   "metadata": {},
   "outputs": [
    {
     "output_type": "stream",
     "name": "stdout",
     "text": [
      "\n Generate Descriptive Statistics\n         name        age       score grade subject\ncount       5   5.000000    5.000000     5       5\nunique      4        NaN         NaN     2       3\ntop     Jessi        NaN         NaN     A    java\nfreq        2        NaN         NaN     3       2\nmean      NaN  22.800000   91.400000   NaN     NaN\nstd       NaN   2.949576    8.502941   NaN     NaN\nmin       NaN  20.000000   80.000000   NaN     NaN\n25%       NaN  20.000000   85.000000   NaN     NaN\n50%       NaN  23.000000   95.000000   NaN     NaN\n75%       NaN  24.000000   97.000000   NaN     NaN\nmax       NaN  27.000000  100.000000   NaN     NaN\n"
     ]
    }
   ],
   "source": [
    "print(\"\\n Generate Descriptive Statistics\")\n",
    "print(score_df.describe(include='all'))"
   ]
  },
  {
   "cell_type": "code",
   "execution_count": 87,
   "metadata": {},
   "outputs": [
    {
     "output_type": "stream",
     "name": "stdout",
     "text": [
      "['python' 'java' 'c']\njava      2\npython    2\nc         1\nName: subject, dtype: int64\njava      0.4\npython    0.4\nc         0.2\nName: subject, dtype: float64\n"
     ]
    }
   ],
   "source": [
    "# df.unique() : 범주형 데이터의 고유한 종류 출력\n",
    "print(score_df['subject'].unique())\n",
    "\n",
    "# df.value_counts() : 범주형 데이터의 각 카테고리별 빈도수 출력\n",
    "print(score_df['subject'].value_counts())\n",
    "\n",
    "# df.value_counts(normalize=True) : 범주형 데이터의 각 카테고리별 빈도수를 비율로 출력\n",
    "print(score_df['subject'].value_counts(normalize=True))"
   ]
  },
  {
   "source": [
    "### DataFrame의 특정 열 데이터 조회\n",
    "- 방법 1) 인덱싱 기법 사용 : DataFrame\\['조회할 열의 인덱스명']\n",
    "- 방법 2) .연산자 사용 : DataFrame.조회할 열의 인덱스명"
   ],
   "cell_type": "markdown",
   "metadata": {}
  },
  {
   "cell_type": "code",
   "execution_count": 103,
   "metadata": {},
   "outputs": [
    {
     "output_type": "stream",
     "name": "stdout",
     "text": [
      "    name  age  score grade subject\n0  Jessi   20    100     A  python\n1   Emma   24     95     A    java\n2   Alex   23     80     B  python\n3  Jessi   20     85     B       c\n4    Tom   27     97     A    java\n"
     ]
    }
   ],
   "source": [
    "# 실습 데이터 생성\n",
    "import pandas as pd\n",
    "\n",
    "score = {'name':['Jessi', 'Emma', 'Alex', 'Jessi', 'Tom'],\n",
    "'age':[20,24,23,20,27],\n",
    "'score':[100,95,80,85,97],\n",
    "'grade':['A', 'A', 'B', 'B', 'A'],\n",
    "'subject':['python', 'java', 'python', 'c', 'java']}\n",
    "c = ['name', 'subject','score','grade','etc']\n",
    "df = pd.DataFrame(data=score, columns=c)\n",
    "print(score_df)"
   ]
  },
  {
   "cell_type": "code",
   "execution_count": 99,
   "metadata": {},
   "outputs": [
    {
     "output_type": "stream",
     "name": "stdout",
     "text": [
      "\nColumns : name\na    Jessi\nb     Emma\nc     Alex\nd      Tom\nName: name, dtype: object\n\nColumns : name\na    Jessi\nb     Emma\nc     Alex\nd      Tom\nName: name, dtype: object\n"
     ]
    }
   ],
   "source": [
    "print('\\nColumns : name')\n",
    "print(df['name'])\n",
    "print('\\nColumns : name')\n",
    "print(df.name)"
   ]
  },
  {
   "cell_type": "code",
   "execution_count": 104,
   "metadata": {},
   "outputs": [
    {
     "output_type": "stream",
     "name": "stdout",
     "text": [
      "\nColumns : name-subject-grade\n    name subject grade\n0  Jessi  python     A\n1   Emma    java     A\n2   Alex  python     B\n3  Jessi       c     B\n4    Tom    java     A\n"
     ]
    }
   ],
   "source": [
    "# DataFrame[['column1','column2']] : 여러 개의 열 데이터를 조회시에는 인덱스 값을 리스트 형태로 전달\n",
    "print('\\nColumns : name-subject-grade')\n",
    "print(df[['name', 'subject', 'grade']])"
   ]
  },
  {
   "cell_type": "code",
   "execution_count": 106,
   "metadata": {},
   "outputs": [
    {
     "output_type": "stream",
     "name": "stdout",
     "text": [
      "\n Modify Column Data\n    name subject  score grade  etc\n0  Jessi  python    100     A    0\n1   Emma    java     95     A    0\n2   Alex  python     80     B    0\n3  Jessi       c     85     B    0\n4    Tom    java     97     A    0\n"
     ]
    }
   ],
   "source": [
    "# etc 컬럼 데이터의 변경\n",
    "print('\\n Modify Column Data')\n",
    "df['etc'] = 0\n",
    "print(df)"
   ]
  },
  {
   "source": [
    "df.loc\\[index]\n",
    "- 행 데이터 조회를 위해 loc 프로퍼티를 사용\n",
    "- 조회하고자 하는 행의 인덱스 값 전달하는 방식"
   ],
   "cell_type": "markdown",
   "metadata": {}
  },
  {
   "source": [
    "print('\\nRows-1')\n",
    "print(df.loc[1])"
   ],
   "cell_type": "code",
   "metadata": {},
   "execution_count": 107,
   "outputs": [
    {
     "output_type": "stream",
     "name": "stdout",
     "text": [
      "\nRows-1\nname       Emma\nsubject    java\nscore        95\ngrade         A\netc           0\nName: 1, dtype: object\n"
     ]
    }
   ]
  },
  {
   "cell_type": "code",
   "execution_count": 108,
   "metadata": {},
   "outputs": [
    {
     "output_type": "stream",
     "name": "stdout",
     "text": [
      "\nRows-0,2,4\n    name subject  score grade  etc\n0  Jessi  python    100     A    0\n2   Alex  python     80     B    0\n4    Tom    java     97     A    0\n"
     ]
    }
   ],
   "source": [
    "print('\\nRows-0,2,4')\n",
    "print(df.loc[[0,2,4]])"
   ]
  },
  {
   "source": [
    "# 특정 행 데이터 변경\n",
    "print('\\nModify Rows0')\n",
    "df.loc[0] = ['Jessi', 'java', 70, 'C', 1]\n",
    "print(df)"
   ],
   "cell_type": "code",
   "metadata": {},
   "execution_count": 109,
   "outputs": [
    {
     "output_type": "stream",
     "name": "stdout",
     "text": [
      "\nModify Rows0\n    name subject  score grade  etc\n0  Jessi    java     70     C    1\n1   Emma    java     95     A    0\n2   Alex  python     80     B    0\n3  Jessi       c     85     B    0\n4    Tom    java     97     A    0\n"
     ]
    }
   ]
  },
  {
   "cell_type": "code",
   "execution_count": 110,
   "metadata": {},
   "outputs": [
    {
     "output_type": "stream",
     "name": "stdout",
     "text": [
      "\nRows & Columns\n   name subject grade\n1  Emma    java     A\n2  Alex  python     B\n4   Tom    java     A\n"
     ]
    }
   ],
   "source": [
    "# 행과 열의 조건을 동시에 지정해 조회하기\n",
    "row_idx = [1,2,4]\n",
    "col_idx = ['name', 'subject', 'grade']\n",
    "print('\\nRows & Columns')\n",
    "print(df.loc[row_idx, col_idx])"
   ]
  },
  {
   "cell_type": "code",
   "execution_count": 111,
   "metadata": {},
   "outputs": [
    {
     "output_type": "stream",
     "name": "stdout",
     "text": [
      "    name  age  score grade subject\n0  Jessi   20    100     A  python\n1   Emma   24     95     A    java\n2   Alex   23     80     B  python\n3  Jessi   20     85     B       c\n4    Tom   27     97     A    java\n"
     ]
    }
   ],
   "source": [
    "# 실습 데이터 생성\n",
    "import pandas as pd\n",
    "\n",
    "score = {'name':['Jessi', 'Emma', 'Alex', 'Jessi', 'Tom'],\n",
    "'age':[20,24,23,20,27],\n",
    "'score':[100,95,80,85,97],\n",
    "'grade':['A', 'A', 'B', 'B', 'A'],\n",
    "'subject':['python', 'java', 'python', 'c', 'java']}\n",
    "c = ['name', 'subject','score','grade','etc']\n",
    "df = pd.DataFrame(data=score, columns=c)\n",
    "print(score_df)"
   ]
  },
  {
   "cell_type": "code",
   "execution_count": 113,
   "metadata": {},
   "outputs": [
    {
     "output_type": "stream",
     "name": "stdout",
     "text": [
      "\nAdd Columns : semester\n    name subject  score grade  etc semester\n0  Jessi  python    100     A  NaN    20-01\n1   Emma    java     95     A  NaN    20-01\n2   Alex  python     80     B  NaN    20-02\n3  Jessi       c     85     B  NaN    20-01\n4    Tom    java     97     A  NaN      NaN\n"
     ]
    }
   ],
   "source": [
    "# Series 객체 생성해 추가하기\n",
    "semester_data = pd.Series(['20-01', '20-01', '20-02', '20-01'])\n",
    "df['semester'] = semester_data\n",
    "\n",
    "print('\\nAdd Columns : semester')\n",
    "print(df)"
   ]
  },
  {
   "cell_type": "code",
   "execution_count": 114,
   "metadata": {},
   "outputs": [
    {
     "output_type": "stream",
     "name": "stdout",
     "text": [
      "\nAdd Columns : high_score\n    name subject  score grade  etc semester  high_score\n0  Jessi  python    100     A  NaN    20-01        True\n1   Emma    java     95     A  NaN    20-01        True\n2   Alex  python     80     B  NaN    20-02       False\n3  Jessi       c     85     B  NaN    20-01       False\n4    Tom    java     97     A  NaN      NaN        True\n"
     ]
    }
   ],
   "source": [
    "# 연산 이용해 열 데이터 추가\n",
    "df['high_score'] = df['score'] > 90\n",
    "print('\\nAdd Columns : high_score')\n",
    "print(df)"
   ]
  },
  {
   "cell_type": "code",
   "execution_count": 115,
   "metadata": {},
   "outputs": [
    {
     "output_type": "stream",
     "name": "stdout",
     "text": [
      "\nAdd Row 6\n    name subject  score grade  etc semester  high_score\n0  Jessi  python    100     A  NaN    20-01        True\n1   Emma    java     95     A  NaN    20-01        True\n2   Alex  python     80     B  NaN    20-02       False\n3  Jessi       c     85     B  NaN    20-01       False\n4    Tom    java     97     A  NaN      NaN        True\n6   Jina  python    100     A    1    20-02        True\n"
     ]
    }
   ],
   "source": [
    "# 행 데이터 추가하기\n",
    "df.loc[6] = ['Jina', 'python', 100,'A',1,'20-02',True]\n",
    "\n",
    "print('\\nAdd Row 6')\n",
    "print(df)"
   ]
  },
  {
   "cell_type": "code",
   "execution_count": 116,
   "metadata": {},
   "outputs": [
    {
     "output_type": "stream",
     "name": "stdout",
     "text": [
      "\nDelete Row : 6\n    name subject  score grade  etc semester  high_score\n0  Jessi  python    100     A  NaN    20-01        True\n1   Emma    java     95     A  NaN    20-01        True\n2   Alex  python     80     B  NaN    20-02       False\n3  Jessi       c     85     B  NaN    20-01       False\n4    Tom    java     97     A  NaN      NaN        True\n6   Jina  python    100     A    1    20-02        True\n"
     ]
    }
   ],
   "source": [
    "# df.drop(index) : drop()함수는 기본적으로 행 데이터를 삭제\n",
    "df.drop(6)\n",
    "print('\\nDelete Row : 6')\n",
    "print(df)"
   ]
  },
  {
   "source": [
    "df.drop(index)\n",
    "- drop() 함수는 기본적으로 행 데이터를 삭제\n",
    "- 삭제된 상태의 객체를 반환할 뿐, 원본 데이터는 삭제하지 않음\n",
    "- 삭제된 객체는 새로운 변수에 저장해 사용 권장\n",
    "- 열 데이터 삭제시 columns 인자에 삭제할 열의 인덱스 지정\n",
    "- inplace=True인자를 추가하면 원본 데이터의 변경이 발생"
   ],
   "cell_type": "markdown",
   "metadata": {}
  },
  {
   "source": [
    "### csv 파일 읽기\n",
    "pd.read_csv(filepath or url)\n",
    "- csv 포맷의 파일을 읽어 DataFrame 으로 변환하는 함수\n",
    "- filepath or url : 경로가 포함된 파일명 또는 URL"
   ],
   "cell_type": "markdown",
   "metadata": {}
  },
  {
   "cell_type": "code",
   "execution_count": 118,
   "metadata": {},
   "outputs": [
    {
     "output_type": "stream",
     "name": "stdout",
     "text": [
      "<class 'pandas.core.frame.DataFrame'>\n"
     ]
    }
   ],
   "source": [
    "import pandas as pd\n",
    "# titanic_train.csv 파일 읽기\n",
    "url = 'https://storage.googleapis.com/tf-datasets/titanic/train.csv'\n",
    "titanic_df = pd.read_csv(url)\n",
    "print(type(titanic_df))"
   ]
  },
  {
   "cell_type": "code",
   "execution_count": 119,
   "metadata": {},
   "outputs": [
    {
     "output_type": "stream",
     "name": "stdout",
     "text": [
      "\n Summary of DataFrame\n<class 'pandas.core.frame.DataFrame'>\nRangeIndex: 627 entries, 0 to 626\nData columns (total 10 columns):\n #   Column              Non-Null Count  Dtype  \n---  ------              --------------  -----  \n 0   survived            627 non-null    int64  \n 1   sex                 627 non-null    object \n 2   age                 627 non-null    float64\n 3   n_siblings_spouses  627 non-null    int64  \n 4   parch               627 non-null    int64  \n 5   fare                627 non-null    float64\n 6   class               627 non-null    object \n 7   deck                627 non-null    object \n 8   embark_town         627 non-null    object \n 9   alone               627 non-null    object \ndtypes: float64(2), int64(3), object(5)\nmemory usage: 49.1+ KB\nNone\n"
     ]
    }
   ],
   "source": [
    "# dataframe에 저장된 데이터셋에 대한 설명 출력\n",
    "print('\\n Summary of DataFrame')\n",
    "print(titanic_df.info())"
   ]
  },
  {
   "cell_type": "code",
   "execution_count": 120,
   "metadata": {},
   "outputs": [
    {
     "output_type": "stream",
     "name": "stdout",
     "text": [
      "\n Return the first n rows\n   survived     sex   age  n_siblings_spouses  parch     fare  class     deck  \\\n0         0    male  22.0                   1      0   7.2500  Third  unknown   \n1         1  female  38.0                   1      0  71.2833  First        C   \n2         1  female  26.0                   0      0   7.9250  Third  unknown   \n3         1  female  35.0                   1      0  53.1000  First        C   \n4         0    male  28.0                   0      0   8.4583  Third  unknown   \n\n   embark_town alone  \n0  Southampton     n  \n1    Cherbourg     n  \n2  Southampton     y  \n3  Southampton     n  \n4   Queenstown     y  \n"
     ]
    }
   ],
   "source": [
    "# df.head(n) : dataframe에 저장된 데이터에서 처음 n개의 행 데이터 출력\n",
    "print('\\n Return the first n rows')\n",
    "print(titanic_df.head(5))"
   ]
  },
  {
   "source": [
    "pd.read_excel(filepath or url)\n",
    "- 엑셀 파일을 읽어서 DataFrame으로 반환하는 함수\n",
    "- filepath or url : 경로가 포함된 파일명 또는 URL"
   ],
   "cell_type": "markdown",
   "metadata": {}
  },
  {
   "cell_type": "code",
   "execution_count": 122,
   "metadata": {},
   "outputs": [
    {
     "output_type": "stream",
     "name": "stdout",
     "text": [
      "\n Read students_score.xlsx\n"
     ]
    },
    {
     "output_type": "error",
     "ename": "URLError",
     "evalue": "<urlopen error [Errno 8] nodename nor servname provided, or not known>",
     "traceback": [
      "\u001b[0;31m---------------------------------------------------------------------------\u001b[0m",
      "\u001b[0;31mgaierror\u001b[0m                                  Traceback (most recent call last)",
      "\u001b[0;32m/opt/homebrew/Cellar/python@3.9/3.9.5/Frameworks/Python.framework/Versions/3.9/lib/python3.9/urllib/request.py\u001b[0m in \u001b[0;36mdo_open\u001b[0;34m(self, http_class, req, **http_conn_args)\u001b[0m\n\u001b[1;32m   1345\u001b[0m             \u001b[0;32mtry\u001b[0m\u001b[0;34m:\u001b[0m\u001b[0;34m\u001b[0m\u001b[0;34m\u001b[0m\u001b[0m\n\u001b[0;32m-> 1346\u001b[0;31m                 h.request(req.get_method(), req.selector, req.data, headers,\n\u001b[0m\u001b[1;32m   1347\u001b[0m                           encode_chunked=req.has_header('Transfer-encoding'))\n",
      "\u001b[0;32m/opt/homebrew/Cellar/python@3.9/3.9.5/Frameworks/Python.framework/Versions/3.9/lib/python3.9/http/client.py\u001b[0m in \u001b[0;36mrequest\u001b[0;34m(self, method, url, body, headers, encode_chunked)\u001b[0m\n\u001b[1;32m   1252\u001b[0m         \u001b[0;34m\"\"\"Send a complete request to the server.\"\"\"\u001b[0m\u001b[0;34m\u001b[0m\u001b[0;34m\u001b[0m\u001b[0m\n\u001b[0;32m-> 1253\u001b[0;31m         \u001b[0mself\u001b[0m\u001b[0;34m.\u001b[0m\u001b[0m_send_request\u001b[0m\u001b[0;34m(\u001b[0m\u001b[0mmethod\u001b[0m\u001b[0;34m,\u001b[0m \u001b[0murl\u001b[0m\u001b[0;34m,\u001b[0m \u001b[0mbody\u001b[0m\u001b[0;34m,\u001b[0m \u001b[0mheaders\u001b[0m\u001b[0;34m,\u001b[0m \u001b[0mencode_chunked\u001b[0m\u001b[0;34m)\u001b[0m\u001b[0;34m\u001b[0m\u001b[0;34m\u001b[0m\u001b[0m\n\u001b[0m\u001b[1;32m   1254\u001b[0m \u001b[0;34m\u001b[0m\u001b[0m\n",
      "\u001b[0;32m/opt/homebrew/Cellar/python@3.9/3.9.5/Frameworks/Python.framework/Versions/3.9/lib/python3.9/http/client.py\u001b[0m in \u001b[0;36m_send_request\u001b[0;34m(self, method, url, body, headers, encode_chunked)\u001b[0m\n\u001b[1;32m   1298\u001b[0m             \u001b[0mbody\u001b[0m \u001b[0;34m=\u001b[0m \u001b[0m_encode\u001b[0m\u001b[0;34m(\u001b[0m\u001b[0mbody\u001b[0m\u001b[0;34m,\u001b[0m \u001b[0;34m'body'\u001b[0m\u001b[0;34m)\u001b[0m\u001b[0;34m\u001b[0m\u001b[0;34m\u001b[0m\u001b[0m\n\u001b[0;32m-> 1299\u001b[0;31m         \u001b[0mself\u001b[0m\u001b[0;34m.\u001b[0m\u001b[0mendheaders\u001b[0m\u001b[0;34m(\u001b[0m\u001b[0mbody\u001b[0m\u001b[0;34m,\u001b[0m \u001b[0mencode_chunked\u001b[0m\u001b[0;34m=\u001b[0m\u001b[0mencode_chunked\u001b[0m\u001b[0;34m)\u001b[0m\u001b[0;34m\u001b[0m\u001b[0;34m\u001b[0m\u001b[0m\n\u001b[0m\u001b[1;32m   1300\u001b[0m \u001b[0;34m\u001b[0m\u001b[0m\n",
      "\u001b[0;32m/opt/homebrew/Cellar/python@3.9/3.9.5/Frameworks/Python.framework/Versions/3.9/lib/python3.9/http/client.py\u001b[0m in \u001b[0;36mendheaders\u001b[0;34m(self, message_body, encode_chunked)\u001b[0m\n\u001b[1;32m   1247\u001b[0m             \u001b[0;32mraise\u001b[0m \u001b[0mCannotSendHeader\u001b[0m\u001b[0;34m(\u001b[0m\u001b[0;34m)\u001b[0m\u001b[0;34m\u001b[0m\u001b[0;34m\u001b[0m\u001b[0m\n\u001b[0;32m-> 1248\u001b[0;31m         \u001b[0mself\u001b[0m\u001b[0;34m.\u001b[0m\u001b[0m_send_output\u001b[0m\u001b[0;34m(\u001b[0m\u001b[0mmessage_body\u001b[0m\u001b[0;34m,\u001b[0m \u001b[0mencode_chunked\u001b[0m\u001b[0;34m=\u001b[0m\u001b[0mencode_chunked\u001b[0m\u001b[0;34m)\u001b[0m\u001b[0;34m\u001b[0m\u001b[0;34m\u001b[0m\u001b[0m\n\u001b[0m\u001b[1;32m   1249\u001b[0m \u001b[0;34m\u001b[0m\u001b[0m\n",
      "\u001b[0;32m/opt/homebrew/Cellar/python@3.9/3.9.5/Frameworks/Python.framework/Versions/3.9/lib/python3.9/http/client.py\u001b[0m in \u001b[0;36m_send_output\u001b[0;34m(self, message_body, encode_chunked)\u001b[0m\n\u001b[1;32m   1007\u001b[0m         \u001b[0;32mdel\u001b[0m \u001b[0mself\u001b[0m\u001b[0;34m.\u001b[0m\u001b[0m_buffer\u001b[0m\u001b[0;34m[\u001b[0m\u001b[0;34m:\u001b[0m\u001b[0;34m]\u001b[0m\u001b[0;34m\u001b[0m\u001b[0;34m\u001b[0m\u001b[0m\n\u001b[0;32m-> 1008\u001b[0;31m         \u001b[0mself\u001b[0m\u001b[0;34m.\u001b[0m\u001b[0msend\u001b[0m\u001b[0;34m(\u001b[0m\u001b[0mmsg\u001b[0m\u001b[0;34m)\u001b[0m\u001b[0;34m\u001b[0m\u001b[0;34m\u001b[0m\u001b[0m\n\u001b[0m\u001b[1;32m   1009\u001b[0m \u001b[0;34m\u001b[0m\u001b[0m\n",
      "\u001b[0;32m/opt/homebrew/Cellar/python@3.9/3.9.5/Frameworks/Python.framework/Versions/3.9/lib/python3.9/http/client.py\u001b[0m in \u001b[0;36msend\u001b[0;34m(self, data)\u001b[0m\n\u001b[1;32m    947\u001b[0m             \u001b[0;32mif\u001b[0m \u001b[0mself\u001b[0m\u001b[0;34m.\u001b[0m\u001b[0mauto_open\u001b[0m\u001b[0;34m:\u001b[0m\u001b[0;34m\u001b[0m\u001b[0;34m\u001b[0m\u001b[0m\n\u001b[0;32m--> 948\u001b[0;31m                 \u001b[0mself\u001b[0m\u001b[0;34m.\u001b[0m\u001b[0mconnect\u001b[0m\u001b[0;34m(\u001b[0m\u001b[0;34m)\u001b[0m\u001b[0;34m\u001b[0m\u001b[0;34m\u001b[0m\u001b[0m\n\u001b[0m\u001b[1;32m    949\u001b[0m             \u001b[0;32melse\u001b[0m\u001b[0;34m:\u001b[0m\u001b[0;34m\u001b[0m\u001b[0;34m\u001b[0m\u001b[0m\n",
      "\u001b[0;32m/opt/homebrew/Cellar/python@3.9/3.9.5/Frameworks/Python.framework/Versions/3.9/lib/python3.9/http/client.py\u001b[0m in \u001b[0;36mconnect\u001b[0;34m(self)\u001b[0m\n\u001b[1;32m   1414\u001b[0m \u001b[0;34m\u001b[0m\u001b[0m\n\u001b[0;32m-> 1415\u001b[0;31m             \u001b[0msuper\u001b[0m\u001b[0;34m(\u001b[0m\u001b[0;34m)\u001b[0m\u001b[0;34m.\u001b[0m\u001b[0mconnect\u001b[0m\u001b[0;34m(\u001b[0m\u001b[0;34m)\u001b[0m\u001b[0;34m\u001b[0m\u001b[0;34m\u001b[0m\u001b[0m\n\u001b[0m\u001b[1;32m   1416\u001b[0m \u001b[0;34m\u001b[0m\u001b[0m\n",
      "\u001b[0;32m/opt/homebrew/Cellar/python@3.9/3.9.5/Frameworks/Python.framework/Versions/3.9/lib/python3.9/http/client.py\u001b[0m in \u001b[0;36mconnect\u001b[0;34m(self)\u001b[0m\n\u001b[1;32m    918\u001b[0m         \u001b[0;34m\"\"\"Connect to the host and port specified in __init__.\"\"\"\u001b[0m\u001b[0;34m\u001b[0m\u001b[0;34m\u001b[0m\u001b[0m\n\u001b[0;32m--> 919\u001b[0;31m         self.sock = self._create_connection(\n\u001b[0m\u001b[1;32m    920\u001b[0m             (self.host,self.port), self.timeout, self.source_address)\n",
      "\u001b[0;32m/opt/homebrew/Cellar/python@3.9/3.9.5/Frameworks/Python.framework/Versions/3.9/lib/python3.9/socket.py\u001b[0m in \u001b[0;36mcreate_connection\u001b[0;34m(address, timeout, source_address)\u001b[0m\n\u001b[1;32m    821\u001b[0m     \u001b[0merr\u001b[0m \u001b[0;34m=\u001b[0m \u001b[0;32mNone\u001b[0m\u001b[0;34m\u001b[0m\u001b[0;34m\u001b[0m\u001b[0m\n\u001b[0;32m--> 822\u001b[0;31m     \u001b[0;32mfor\u001b[0m \u001b[0mres\u001b[0m \u001b[0;32min\u001b[0m \u001b[0mgetaddrinfo\u001b[0m\u001b[0;34m(\u001b[0m\u001b[0mhost\u001b[0m\u001b[0;34m,\u001b[0m \u001b[0mport\u001b[0m\u001b[0;34m,\u001b[0m \u001b[0;36m0\u001b[0m\u001b[0;34m,\u001b[0m \u001b[0mSOCK_STREAM\u001b[0m\u001b[0;34m)\u001b[0m\u001b[0;34m:\u001b[0m\u001b[0;34m\u001b[0m\u001b[0;34m\u001b[0m\u001b[0m\n\u001b[0m\u001b[1;32m    823\u001b[0m         \u001b[0maf\u001b[0m\u001b[0;34m,\u001b[0m \u001b[0msocktype\u001b[0m\u001b[0;34m,\u001b[0m \u001b[0mproto\u001b[0m\u001b[0;34m,\u001b[0m \u001b[0mcanonname\u001b[0m\u001b[0;34m,\u001b[0m \u001b[0msa\u001b[0m \u001b[0;34m=\u001b[0m \u001b[0mres\u001b[0m\u001b[0;34m\u001b[0m\u001b[0;34m\u001b[0m\u001b[0m\n",
      "\u001b[0;32m/opt/homebrew/Cellar/python@3.9/3.9.5/Frameworks/Python.framework/Versions/3.9/lib/python3.9/socket.py\u001b[0m in \u001b[0;36mgetaddrinfo\u001b[0;34m(host, port, family, type, proto, flags)\u001b[0m\n\u001b[1;32m    952\u001b[0m     \u001b[0maddrlist\u001b[0m \u001b[0;34m=\u001b[0m \u001b[0;34m[\u001b[0m\u001b[0;34m]\u001b[0m\u001b[0;34m\u001b[0m\u001b[0;34m\u001b[0m\u001b[0m\n\u001b[0;32m--> 953\u001b[0;31m     \u001b[0;32mfor\u001b[0m \u001b[0mres\u001b[0m \u001b[0;32min\u001b[0m \u001b[0m_socket\u001b[0m\u001b[0;34m.\u001b[0m\u001b[0mgetaddrinfo\u001b[0m\u001b[0;34m(\u001b[0m\u001b[0mhost\u001b[0m\u001b[0;34m,\u001b[0m \u001b[0mport\u001b[0m\u001b[0;34m,\u001b[0m \u001b[0mfamily\u001b[0m\u001b[0;34m,\u001b[0m \u001b[0mtype\u001b[0m\u001b[0;34m,\u001b[0m \u001b[0mproto\u001b[0m\u001b[0;34m,\u001b[0m \u001b[0mflags\u001b[0m\u001b[0;34m)\u001b[0m\u001b[0;34m:\u001b[0m\u001b[0;34m\u001b[0m\u001b[0;34m\u001b[0m\u001b[0m\n\u001b[0m\u001b[1;32m    954\u001b[0m         \u001b[0maf\u001b[0m\u001b[0;34m,\u001b[0m \u001b[0msocktype\u001b[0m\u001b[0;34m,\u001b[0m \u001b[0mproto\u001b[0m\u001b[0;34m,\u001b[0m \u001b[0mcanonname\u001b[0m\u001b[0;34m,\u001b[0m \u001b[0msa\u001b[0m \u001b[0;34m=\u001b[0m \u001b[0mres\u001b[0m\u001b[0;34m\u001b[0m\u001b[0;34m\u001b[0m\u001b[0m\n",
      "\u001b[0;31mgaierror\u001b[0m: [Errno 8] nodename nor servname provided, or not known",
      "\nDuring handling of the above exception, another exception occurred:\n",
      "\u001b[0;31mURLError\u001b[0m                                  Traceback (most recent call last)",
      "\u001b[0;32m<ipython-input-122-9c614c612ee8>\u001b[0m in \u001b[0;36m<module>\u001b[0;34m\u001b[0m\n\u001b[1;32m      4\u001b[0m \u001b[0;31m# 엑셀 파일에서 데이터 읽기\u001b[0m\u001b[0;34m\u001b[0m\u001b[0;34m\u001b[0m\u001b[0;34m\u001b[0m\u001b[0m\n\u001b[1;32m      5\u001b[0m \u001b[0mprint\u001b[0m\u001b[0;34m(\u001b[0m\u001b[0;34m'\\n Read students_score.xlsx'\u001b[0m\u001b[0;34m)\u001b[0m\u001b[0;34m\u001b[0m\u001b[0;34m\u001b[0m\u001b[0m\n\u001b[0;32m----> 6\u001b[0;31m \u001b[0msample_df\u001b[0m \u001b[0;34m=\u001b[0m \u001b[0mpd\u001b[0m\u001b[0;34m.\u001b[0m\u001b[0mread_excel\u001b[0m\u001b[0;34m(\u001b[0m\u001b[0murl\u001b[0m\u001b[0;34m)\u001b[0m\u001b[0;34m\u001b[0m\u001b[0;34m\u001b[0m\u001b[0m\n\u001b[0m\u001b[1;32m      7\u001b[0m \u001b[0mprint\u001b[0m\u001b[0;34m(\u001b[0m\u001b[0msample_df\u001b[0m\u001b[0;34m)\u001b[0m\u001b[0;34m\u001b[0m\u001b[0;34m\u001b[0m\u001b[0m\n",
      "\u001b[0;32m/opt/homebrew/lib/python3.9/site-packages/pandas/util/_decorators.py\u001b[0m in \u001b[0;36mwrapper\u001b[0;34m(*args, **kwargs)\u001b[0m\n\u001b[1;32m    297\u001b[0m                 )\n\u001b[1;32m    298\u001b[0m                 \u001b[0mwarnings\u001b[0m\u001b[0;34m.\u001b[0m\u001b[0mwarn\u001b[0m\u001b[0;34m(\u001b[0m\u001b[0mmsg\u001b[0m\u001b[0;34m,\u001b[0m \u001b[0mFutureWarning\u001b[0m\u001b[0;34m,\u001b[0m \u001b[0mstacklevel\u001b[0m\u001b[0;34m=\u001b[0m\u001b[0mstacklevel\u001b[0m\u001b[0;34m)\u001b[0m\u001b[0;34m\u001b[0m\u001b[0;34m\u001b[0m\u001b[0m\n\u001b[0;32m--> 299\u001b[0;31m             \u001b[0;32mreturn\u001b[0m \u001b[0mfunc\u001b[0m\u001b[0;34m(\u001b[0m\u001b[0;34m*\u001b[0m\u001b[0margs\u001b[0m\u001b[0;34m,\u001b[0m \u001b[0;34m**\u001b[0m\u001b[0mkwargs\u001b[0m\u001b[0;34m)\u001b[0m\u001b[0;34m\u001b[0m\u001b[0;34m\u001b[0m\u001b[0m\n\u001b[0m\u001b[1;32m    300\u001b[0m \u001b[0;34m\u001b[0m\u001b[0m\n\u001b[1;32m    301\u001b[0m         \u001b[0;32mreturn\u001b[0m \u001b[0mwrapper\u001b[0m\u001b[0;34m\u001b[0m\u001b[0;34m\u001b[0m\u001b[0m\n",
      "\u001b[0;32m/opt/homebrew/lib/python3.9/site-packages/pandas/io/excel/_base.py\u001b[0m in \u001b[0;36mread_excel\u001b[0;34m(io, sheet_name, header, names, index_col, usecols, squeeze, dtype, engine, converters, true_values, false_values, skiprows, nrows, na_values, keep_default_na, na_filter, verbose, parse_dates, date_parser, thousands, comment, skipfooter, convert_float, mangle_dupe_cols, storage_options)\u001b[0m\n\u001b[1;32m    334\u001b[0m     \u001b[0;32mif\u001b[0m \u001b[0;32mnot\u001b[0m \u001b[0misinstance\u001b[0m\u001b[0;34m(\u001b[0m\u001b[0mio\u001b[0m\u001b[0;34m,\u001b[0m \u001b[0mExcelFile\u001b[0m\u001b[0;34m)\u001b[0m\u001b[0;34m:\u001b[0m\u001b[0;34m\u001b[0m\u001b[0;34m\u001b[0m\u001b[0m\n\u001b[1;32m    335\u001b[0m         \u001b[0mshould_close\u001b[0m \u001b[0;34m=\u001b[0m \u001b[0;32mTrue\u001b[0m\u001b[0;34m\u001b[0m\u001b[0;34m\u001b[0m\u001b[0m\n\u001b[0;32m--> 336\u001b[0;31m         \u001b[0mio\u001b[0m \u001b[0;34m=\u001b[0m \u001b[0mExcelFile\u001b[0m\u001b[0;34m(\u001b[0m\u001b[0mio\u001b[0m\u001b[0;34m,\u001b[0m \u001b[0mstorage_options\u001b[0m\u001b[0;34m=\u001b[0m\u001b[0mstorage_options\u001b[0m\u001b[0;34m,\u001b[0m \u001b[0mengine\u001b[0m\u001b[0;34m=\u001b[0m\u001b[0mengine\u001b[0m\u001b[0;34m)\u001b[0m\u001b[0;34m\u001b[0m\u001b[0;34m\u001b[0m\u001b[0m\n\u001b[0m\u001b[1;32m    337\u001b[0m     \u001b[0;32melif\u001b[0m \u001b[0mengine\u001b[0m \u001b[0;32mand\u001b[0m \u001b[0mengine\u001b[0m \u001b[0;34m!=\u001b[0m \u001b[0mio\u001b[0m\u001b[0;34m.\u001b[0m\u001b[0mengine\u001b[0m\u001b[0;34m:\u001b[0m\u001b[0;34m\u001b[0m\u001b[0;34m\u001b[0m\u001b[0m\n\u001b[1;32m    338\u001b[0m         raise ValueError(\n",
      "\u001b[0;32m/opt/homebrew/lib/python3.9/site-packages/pandas/io/excel/_base.py\u001b[0m in \u001b[0;36m__init__\u001b[0;34m(self, path_or_buffer, engine, storage_options)\u001b[0m\n\u001b[1;32m   1078\u001b[0m                 \u001b[0mext\u001b[0m \u001b[0;34m=\u001b[0m \u001b[0;34m\"xls\"\u001b[0m\u001b[0;34m\u001b[0m\u001b[0;34m\u001b[0m\u001b[0m\n\u001b[1;32m   1079\u001b[0m             \u001b[0;32melse\u001b[0m\u001b[0;34m:\u001b[0m\u001b[0;34m\u001b[0m\u001b[0;34m\u001b[0m\u001b[0m\n\u001b[0;32m-> 1080\u001b[0;31m                 ext = inspect_excel_format(\n\u001b[0m\u001b[1;32m   1081\u001b[0m                     \u001b[0mcontent\u001b[0m\u001b[0;34m=\u001b[0m\u001b[0mpath_or_buffer\u001b[0m\u001b[0;34m,\u001b[0m \u001b[0mstorage_options\u001b[0m\u001b[0;34m=\u001b[0m\u001b[0mstorage_options\u001b[0m\u001b[0;34m\u001b[0m\u001b[0;34m\u001b[0m\u001b[0m\n\u001b[1;32m   1082\u001b[0m                 )\n",
      "\u001b[0;32m/opt/homebrew/lib/python3.9/site-packages/pandas/io/excel/_base.py\u001b[0m in \u001b[0;36minspect_excel_format\u001b[0;34m(path, content, storage_options)\u001b[0m\n\u001b[1;32m    956\u001b[0m     \u001b[0;32massert\u001b[0m \u001b[0mcontent_or_path\u001b[0m \u001b[0;32mis\u001b[0m \u001b[0;32mnot\u001b[0m \u001b[0;32mNone\u001b[0m\u001b[0;34m\u001b[0m\u001b[0;34m\u001b[0m\u001b[0m\n\u001b[1;32m    957\u001b[0m \u001b[0;34m\u001b[0m\u001b[0m\n\u001b[0;32m--> 958\u001b[0;31m     with get_handle(\n\u001b[0m\u001b[1;32m    959\u001b[0m         \u001b[0mcontent_or_path\u001b[0m\u001b[0;34m,\u001b[0m \u001b[0;34m\"rb\"\u001b[0m\u001b[0;34m,\u001b[0m \u001b[0mstorage_options\u001b[0m\u001b[0;34m=\u001b[0m\u001b[0mstorage_options\u001b[0m\u001b[0;34m,\u001b[0m \u001b[0mis_text\u001b[0m\u001b[0;34m=\u001b[0m\u001b[0;32mFalse\u001b[0m\u001b[0;34m\u001b[0m\u001b[0;34m\u001b[0m\u001b[0m\n\u001b[1;32m    960\u001b[0m     ) as handle:\n",
      "\u001b[0;32m/opt/homebrew/lib/python3.9/site-packages/pandas/io/common.py\u001b[0m in \u001b[0;36mget_handle\u001b[0;34m(path_or_buf, mode, encoding, compression, memory_map, is_text, errors, storage_options)\u001b[0m\n\u001b[1;32m    556\u001b[0m \u001b[0;34m\u001b[0m\u001b[0m\n\u001b[1;32m    557\u001b[0m     \u001b[0;31m# open URLs\u001b[0m\u001b[0;34m\u001b[0m\u001b[0;34m\u001b[0m\u001b[0;34m\u001b[0m\u001b[0m\n\u001b[0;32m--> 558\u001b[0;31m     ioargs = _get_filepath_or_buffer(\n\u001b[0m\u001b[1;32m    559\u001b[0m         \u001b[0mpath_or_buf\u001b[0m\u001b[0;34m,\u001b[0m\u001b[0;34m\u001b[0m\u001b[0;34m\u001b[0m\u001b[0m\n\u001b[1;32m    560\u001b[0m         \u001b[0mencoding\u001b[0m\u001b[0;34m=\u001b[0m\u001b[0mencoding\u001b[0m\u001b[0;34m,\u001b[0m\u001b[0;34m\u001b[0m\u001b[0;34m\u001b[0m\u001b[0m\n",
      "\u001b[0;32m/opt/homebrew/lib/python3.9/site-packages/pandas/io/common.py\u001b[0m in \u001b[0;36m_get_filepath_or_buffer\u001b[0;34m(filepath_or_buffer, encoding, compression, mode, storage_options)\u001b[0m\n\u001b[1;32m    287\u001b[0m                 \u001b[0;34m\"storage_options passed with file object or non-fsspec file path\"\u001b[0m\u001b[0;34m\u001b[0m\u001b[0;34m\u001b[0m\u001b[0m\n\u001b[1;32m    288\u001b[0m             )\n\u001b[0;32m--> 289\u001b[0;31m         \u001b[0mreq\u001b[0m \u001b[0;34m=\u001b[0m \u001b[0murlopen\u001b[0m\u001b[0;34m(\u001b[0m\u001b[0mfilepath_or_buffer\u001b[0m\u001b[0;34m)\u001b[0m\u001b[0;34m\u001b[0m\u001b[0;34m\u001b[0m\u001b[0m\n\u001b[0m\u001b[1;32m    290\u001b[0m         \u001b[0mcontent_encoding\u001b[0m \u001b[0;34m=\u001b[0m \u001b[0mreq\u001b[0m\u001b[0;34m.\u001b[0m\u001b[0mheaders\u001b[0m\u001b[0;34m.\u001b[0m\u001b[0mget\u001b[0m\u001b[0;34m(\u001b[0m\u001b[0;34m\"Content-Encoding\"\u001b[0m\u001b[0;34m,\u001b[0m \u001b[0;32mNone\u001b[0m\u001b[0;34m)\u001b[0m\u001b[0;34m\u001b[0m\u001b[0;34m\u001b[0m\u001b[0m\n\u001b[1;32m    291\u001b[0m         \u001b[0;32mif\u001b[0m \u001b[0mcontent_encoding\u001b[0m \u001b[0;34m==\u001b[0m \u001b[0;34m\"gzip\"\u001b[0m\u001b[0;34m:\u001b[0m\u001b[0;34m\u001b[0m\u001b[0;34m\u001b[0m\u001b[0m\n",
      "\u001b[0;32m/opt/homebrew/lib/python3.9/site-packages/pandas/io/common.py\u001b[0m in \u001b[0;36murlopen\u001b[0;34m(*args, **kwargs)\u001b[0m\n\u001b[1;32m    193\u001b[0m     \u001b[0;32mimport\u001b[0m \u001b[0murllib\u001b[0m\u001b[0;34m.\u001b[0m\u001b[0mrequest\u001b[0m\u001b[0;34m\u001b[0m\u001b[0;34m\u001b[0m\u001b[0m\n\u001b[1;32m    194\u001b[0m \u001b[0;34m\u001b[0m\u001b[0m\n\u001b[0;32m--> 195\u001b[0;31m     \u001b[0;32mreturn\u001b[0m \u001b[0murllib\u001b[0m\u001b[0;34m.\u001b[0m\u001b[0mrequest\u001b[0m\u001b[0;34m.\u001b[0m\u001b[0murlopen\u001b[0m\u001b[0;34m(\u001b[0m\u001b[0;34m*\u001b[0m\u001b[0margs\u001b[0m\u001b[0;34m,\u001b[0m \u001b[0;34m**\u001b[0m\u001b[0mkwargs\u001b[0m\u001b[0;34m)\u001b[0m\u001b[0;34m\u001b[0m\u001b[0;34m\u001b[0m\u001b[0m\n\u001b[0m\u001b[1;32m    196\u001b[0m \u001b[0;34m\u001b[0m\u001b[0m\n\u001b[1;32m    197\u001b[0m \u001b[0;34m\u001b[0m\u001b[0m\n",
      "\u001b[0;32m/opt/homebrew/Cellar/python@3.9/3.9.5/Frameworks/Python.framework/Versions/3.9/lib/python3.9/urllib/request.py\u001b[0m in \u001b[0;36murlopen\u001b[0;34m(url, data, timeout, cafile, capath, cadefault, context)\u001b[0m\n\u001b[1;32m    212\u001b[0m     \u001b[0;32melse\u001b[0m\u001b[0;34m:\u001b[0m\u001b[0;34m\u001b[0m\u001b[0;34m\u001b[0m\u001b[0m\n\u001b[1;32m    213\u001b[0m         \u001b[0mopener\u001b[0m \u001b[0;34m=\u001b[0m \u001b[0m_opener\u001b[0m\u001b[0;34m\u001b[0m\u001b[0;34m\u001b[0m\u001b[0m\n\u001b[0;32m--> 214\u001b[0;31m     \u001b[0;32mreturn\u001b[0m \u001b[0mopener\u001b[0m\u001b[0;34m.\u001b[0m\u001b[0mopen\u001b[0m\u001b[0;34m(\u001b[0m\u001b[0murl\u001b[0m\u001b[0;34m,\u001b[0m \u001b[0mdata\u001b[0m\u001b[0;34m,\u001b[0m \u001b[0mtimeout\u001b[0m\u001b[0;34m)\u001b[0m\u001b[0;34m\u001b[0m\u001b[0;34m\u001b[0m\u001b[0m\n\u001b[0m\u001b[1;32m    215\u001b[0m \u001b[0;34m\u001b[0m\u001b[0m\n\u001b[1;32m    216\u001b[0m \u001b[0;32mdef\u001b[0m \u001b[0minstall_opener\u001b[0m\u001b[0;34m(\u001b[0m\u001b[0mopener\u001b[0m\u001b[0;34m)\u001b[0m\u001b[0;34m:\u001b[0m\u001b[0;34m\u001b[0m\u001b[0;34m\u001b[0m\u001b[0m\n",
      "\u001b[0;32m/opt/homebrew/Cellar/python@3.9/3.9.5/Frameworks/Python.framework/Versions/3.9/lib/python3.9/urllib/request.py\u001b[0m in \u001b[0;36mopen\u001b[0;34m(self, fullurl, data, timeout)\u001b[0m\n\u001b[1;32m    515\u001b[0m \u001b[0;34m\u001b[0m\u001b[0m\n\u001b[1;32m    516\u001b[0m         \u001b[0msys\u001b[0m\u001b[0;34m.\u001b[0m\u001b[0maudit\u001b[0m\u001b[0;34m(\u001b[0m\u001b[0;34m'urllib.Request'\u001b[0m\u001b[0;34m,\u001b[0m \u001b[0mreq\u001b[0m\u001b[0;34m.\u001b[0m\u001b[0mfull_url\u001b[0m\u001b[0;34m,\u001b[0m \u001b[0mreq\u001b[0m\u001b[0;34m.\u001b[0m\u001b[0mdata\u001b[0m\u001b[0;34m,\u001b[0m \u001b[0mreq\u001b[0m\u001b[0;34m.\u001b[0m\u001b[0mheaders\u001b[0m\u001b[0;34m,\u001b[0m \u001b[0mreq\u001b[0m\u001b[0;34m.\u001b[0m\u001b[0mget_method\u001b[0m\u001b[0;34m(\u001b[0m\u001b[0;34m)\u001b[0m\u001b[0;34m)\u001b[0m\u001b[0;34m\u001b[0m\u001b[0;34m\u001b[0m\u001b[0m\n\u001b[0;32m--> 517\u001b[0;31m         \u001b[0mresponse\u001b[0m \u001b[0;34m=\u001b[0m \u001b[0mself\u001b[0m\u001b[0;34m.\u001b[0m\u001b[0m_open\u001b[0m\u001b[0;34m(\u001b[0m\u001b[0mreq\u001b[0m\u001b[0;34m,\u001b[0m \u001b[0mdata\u001b[0m\u001b[0;34m)\u001b[0m\u001b[0;34m\u001b[0m\u001b[0;34m\u001b[0m\u001b[0m\n\u001b[0m\u001b[1;32m    518\u001b[0m \u001b[0;34m\u001b[0m\u001b[0m\n\u001b[1;32m    519\u001b[0m         \u001b[0;31m# post-process response\u001b[0m\u001b[0;34m\u001b[0m\u001b[0;34m\u001b[0m\u001b[0;34m\u001b[0m\u001b[0m\n",
      "\u001b[0;32m/opt/homebrew/Cellar/python@3.9/3.9.5/Frameworks/Python.framework/Versions/3.9/lib/python3.9/urllib/request.py\u001b[0m in \u001b[0;36m_open\u001b[0;34m(self, req, data)\u001b[0m\n\u001b[1;32m    532\u001b[0m \u001b[0;34m\u001b[0m\u001b[0m\n\u001b[1;32m    533\u001b[0m         \u001b[0mprotocol\u001b[0m \u001b[0;34m=\u001b[0m \u001b[0mreq\u001b[0m\u001b[0;34m.\u001b[0m\u001b[0mtype\u001b[0m\u001b[0;34m\u001b[0m\u001b[0;34m\u001b[0m\u001b[0m\n\u001b[0;32m--> 534\u001b[0;31m         result = self._call_chain(self.handle_open, protocol, protocol +\n\u001b[0m\u001b[1;32m    535\u001b[0m                                   '_open', req)\n\u001b[1;32m    536\u001b[0m         \u001b[0;32mif\u001b[0m \u001b[0mresult\u001b[0m\u001b[0;34m:\u001b[0m\u001b[0;34m\u001b[0m\u001b[0;34m\u001b[0m\u001b[0m\n",
      "\u001b[0;32m/opt/homebrew/Cellar/python@3.9/3.9.5/Frameworks/Python.framework/Versions/3.9/lib/python3.9/urllib/request.py\u001b[0m in \u001b[0;36m_call_chain\u001b[0;34m(self, chain, kind, meth_name, *args)\u001b[0m\n\u001b[1;32m    492\u001b[0m         \u001b[0;32mfor\u001b[0m \u001b[0mhandler\u001b[0m \u001b[0;32min\u001b[0m \u001b[0mhandlers\u001b[0m\u001b[0;34m:\u001b[0m\u001b[0;34m\u001b[0m\u001b[0;34m\u001b[0m\u001b[0m\n\u001b[1;32m    493\u001b[0m             \u001b[0mfunc\u001b[0m \u001b[0;34m=\u001b[0m \u001b[0mgetattr\u001b[0m\u001b[0;34m(\u001b[0m\u001b[0mhandler\u001b[0m\u001b[0;34m,\u001b[0m \u001b[0mmeth_name\u001b[0m\u001b[0;34m)\u001b[0m\u001b[0;34m\u001b[0m\u001b[0;34m\u001b[0m\u001b[0m\n\u001b[0;32m--> 494\u001b[0;31m             \u001b[0mresult\u001b[0m \u001b[0;34m=\u001b[0m \u001b[0mfunc\u001b[0m\u001b[0;34m(\u001b[0m\u001b[0;34m*\u001b[0m\u001b[0margs\u001b[0m\u001b[0;34m)\u001b[0m\u001b[0;34m\u001b[0m\u001b[0;34m\u001b[0m\u001b[0m\n\u001b[0m\u001b[1;32m    495\u001b[0m             \u001b[0;32mif\u001b[0m \u001b[0mresult\u001b[0m \u001b[0;32mis\u001b[0m \u001b[0;32mnot\u001b[0m \u001b[0;32mNone\u001b[0m\u001b[0;34m:\u001b[0m\u001b[0;34m\u001b[0m\u001b[0;34m\u001b[0m\u001b[0m\n\u001b[1;32m    496\u001b[0m                 \u001b[0;32mreturn\u001b[0m \u001b[0mresult\u001b[0m\u001b[0;34m\u001b[0m\u001b[0;34m\u001b[0m\u001b[0m\n",
      "\u001b[0;32m/opt/homebrew/Cellar/python@3.9/3.9.5/Frameworks/Python.framework/Versions/3.9/lib/python3.9/urllib/request.py\u001b[0m in \u001b[0;36mhttps_open\u001b[0;34m(self, req)\u001b[0m\n\u001b[1;32m   1387\u001b[0m \u001b[0;34m\u001b[0m\u001b[0m\n\u001b[1;32m   1388\u001b[0m         \u001b[0;32mdef\u001b[0m \u001b[0mhttps_open\u001b[0m\u001b[0;34m(\u001b[0m\u001b[0mself\u001b[0m\u001b[0;34m,\u001b[0m \u001b[0mreq\u001b[0m\u001b[0;34m)\u001b[0m\u001b[0;34m:\u001b[0m\u001b[0;34m\u001b[0m\u001b[0;34m\u001b[0m\u001b[0m\n\u001b[0;32m-> 1389\u001b[0;31m             return self.do_open(http.client.HTTPSConnection, req,\n\u001b[0m\u001b[1;32m   1390\u001b[0m                 context=self._context, check_hostname=self._check_hostname)\n\u001b[1;32m   1391\u001b[0m \u001b[0;34m\u001b[0m\u001b[0m\n",
      "\u001b[0;32m/opt/homebrew/Cellar/python@3.9/3.9.5/Frameworks/Python.framework/Versions/3.9/lib/python3.9/urllib/request.py\u001b[0m in \u001b[0;36mdo_open\u001b[0;34m(self, http_class, req, **http_conn_args)\u001b[0m\n\u001b[1;32m   1347\u001b[0m                           encode_chunked=req.has_header('Transfer-encoding'))\n\u001b[1;32m   1348\u001b[0m             \u001b[0;32mexcept\u001b[0m \u001b[0mOSError\u001b[0m \u001b[0;32mas\u001b[0m \u001b[0merr\u001b[0m\u001b[0;34m:\u001b[0m \u001b[0;31m# timeout error\u001b[0m\u001b[0;34m\u001b[0m\u001b[0;34m\u001b[0m\u001b[0m\n\u001b[0;32m-> 1349\u001b[0;31m                 \u001b[0;32mraise\u001b[0m \u001b[0mURLError\u001b[0m\u001b[0;34m(\u001b[0m\u001b[0merr\u001b[0m\u001b[0;34m)\u001b[0m\u001b[0;34m\u001b[0m\u001b[0;34m\u001b[0m\u001b[0m\n\u001b[0m\u001b[1;32m   1350\u001b[0m             \u001b[0mr\u001b[0m \u001b[0;34m=\u001b[0m \u001b[0mh\u001b[0m\u001b[0;34m.\u001b[0m\u001b[0mgetresponse\u001b[0m\u001b[0;34m(\u001b[0m\u001b[0;34m)\u001b[0m\u001b[0;34m\u001b[0m\u001b[0;34m\u001b[0m\u001b[0m\n\u001b[1;32m   1351\u001b[0m         \u001b[0;32mexcept\u001b[0m\u001b[0;34m:\u001b[0m\u001b[0;34m\u001b[0m\u001b[0;34m\u001b[0m\u001b[0m\n",
      "\u001b[0;31mURLError\u001b[0m: <urlopen error [Errno 8] nodename nor servname provided, or not known>"
     ]
    }
   ],
   "source": [
    "# students_score.xlsx이 저장된 url\n",
    "url = 'https://codepresso-online-platform-public.s3resource/python-data-analysis/students_score.xlsx'\n",
    "\n",
    "# 엑셀 파일에서 데이터 읽기\n",
    "print('\\n Read students_score.xlsx')\n",
    "sample_df = pd.read_excel(url)\n",
    "print(sample_df)"
   ]
  },
  {
   "source": [
    "pd.read_excel(filepath or url, header=None)\n",
    "\n",
    "1. header=None 옵션을 통해 컬럼 지정하지 않는 상태로 DataFrame 생성\n",
    "\n",
    "2. df.columns를 통해 컬럼명 임의로 지정하기"
   ],
   "cell_type": "markdown",
   "metadata": {}
  },
  {
   "cell_type": "code",
   "execution_count": 123,
   "metadata": {},
   "outputs": [
    {
     "output_type": "error",
     "ename": "URLError",
     "evalue": "<urlopen error [Errno 8] nodename nor servname provided, or not known>",
     "traceback": [
      "\u001b[0;31m---------------------------------------------------------------------------\u001b[0m",
      "\u001b[0;31mgaierror\u001b[0m                                  Traceback (most recent call last)",
      "\u001b[0;32m/opt/homebrew/Cellar/python@3.9/3.9.5/Frameworks/Python.framework/Versions/3.9/lib/python3.9/urllib/request.py\u001b[0m in \u001b[0;36mdo_open\u001b[0;34m(self, http_class, req, **http_conn_args)\u001b[0m\n\u001b[1;32m   1345\u001b[0m             \u001b[0;32mtry\u001b[0m\u001b[0;34m:\u001b[0m\u001b[0;34m\u001b[0m\u001b[0;34m\u001b[0m\u001b[0m\n\u001b[0;32m-> 1346\u001b[0;31m                 h.request(req.get_method(), req.selector, req.data, headers,\n\u001b[0m\u001b[1;32m   1347\u001b[0m                           encode_chunked=req.has_header('Transfer-encoding'))\n",
      "\u001b[0;32m/opt/homebrew/Cellar/python@3.9/3.9.5/Frameworks/Python.framework/Versions/3.9/lib/python3.9/http/client.py\u001b[0m in \u001b[0;36mrequest\u001b[0;34m(self, method, url, body, headers, encode_chunked)\u001b[0m\n\u001b[1;32m   1252\u001b[0m         \u001b[0;34m\"\"\"Send a complete request to the server.\"\"\"\u001b[0m\u001b[0;34m\u001b[0m\u001b[0;34m\u001b[0m\u001b[0m\n\u001b[0;32m-> 1253\u001b[0;31m         \u001b[0mself\u001b[0m\u001b[0;34m.\u001b[0m\u001b[0m_send_request\u001b[0m\u001b[0;34m(\u001b[0m\u001b[0mmethod\u001b[0m\u001b[0;34m,\u001b[0m \u001b[0murl\u001b[0m\u001b[0;34m,\u001b[0m \u001b[0mbody\u001b[0m\u001b[0;34m,\u001b[0m \u001b[0mheaders\u001b[0m\u001b[0;34m,\u001b[0m \u001b[0mencode_chunked\u001b[0m\u001b[0;34m)\u001b[0m\u001b[0;34m\u001b[0m\u001b[0;34m\u001b[0m\u001b[0m\n\u001b[0m\u001b[1;32m   1254\u001b[0m \u001b[0;34m\u001b[0m\u001b[0m\n",
      "\u001b[0;32m/opt/homebrew/Cellar/python@3.9/3.9.5/Frameworks/Python.framework/Versions/3.9/lib/python3.9/http/client.py\u001b[0m in \u001b[0;36m_send_request\u001b[0;34m(self, method, url, body, headers, encode_chunked)\u001b[0m\n\u001b[1;32m   1298\u001b[0m             \u001b[0mbody\u001b[0m \u001b[0;34m=\u001b[0m \u001b[0m_encode\u001b[0m\u001b[0;34m(\u001b[0m\u001b[0mbody\u001b[0m\u001b[0;34m,\u001b[0m \u001b[0;34m'body'\u001b[0m\u001b[0;34m)\u001b[0m\u001b[0;34m\u001b[0m\u001b[0;34m\u001b[0m\u001b[0m\n\u001b[0;32m-> 1299\u001b[0;31m         \u001b[0mself\u001b[0m\u001b[0;34m.\u001b[0m\u001b[0mendheaders\u001b[0m\u001b[0;34m(\u001b[0m\u001b[0mbody\u001b[0m\u001b[0;34m,\u001b[0m \u001b[0mencode_chunked\u001b[0m\u001b[0;34m=\u001b[0m\u001b[0mencode_chunked\u001b[0m\u001b[0;34m)\u001b[0m\u001b[0;34m\u001b[0m\u001b[0;34m\u001b[0m\u001b[0m\n\u001b[0m\u001b[1;32m   1300\u001b[0m \u001b[0;34m\u001b[0m\u001b[0m\n",
      "\u001b[0;32m/opt/homebrew/Cellar/python@3.9/3.9.5/Frameworks/Python.framework/Versions/3.9/lib/python3.9/http/client.py\u001b[0m in \u001b[0;36mendheaders\u001b[0;34m(self, message_body, encode_chunked)\u001b[0m\n\u001b[1;32m   1247\u001b[0m             \u001b[0;32mraise\u001b[0m \u001b[0mCannotSendHeader\u001b[0m\u001b[0;34m(\u001b[0m\u001b[0;34m)\u001b[0m\u001b[0;34m\u001b[0m\u001b[0;34m\u001b[0m\u001b[0m\n\u001b[0;32m-> 1248\u001b[0;31m         \u001b[0mself\u001b[0m\u001b[0;34m.\u001b[0m\u001b[0m_send_output\u001b[0m\u001b[0;34m(\u001b[0m\u001b[0mmessage_body\u001b[0m\u001b[0;34m,\u001b[0m \u001b[0mencode_chunked\u001b[0m\u001b[0;34m=\u001b[0m\u001b[0mencode_chunked\u001b[0m\u001b[0;34m)\u001b[0m\u001b[0;34m\u001b[0m\u001b[0;34m\u001b[0m\u001b[0m\n\u001b[0m\u001b[1;32m   1249\u001b[0m \u001b[0;34m\u001b[0m\u001b[0m\n",
      "\u001b[0;32m/opt/homebrew/Cellar/python@3.9/3.9.5/Frameworks/Python.framework/Versions/3.9/lib/python3.9/http/client.py\u001b[0m in \u001b[0;36m_send_output\u001b[0;34m(self, message_body, encode_chunked)\u001b[0m\n\u001b[1;32m   1007\u001b[0m         \u001b[0;32mdel\u001b[0m \u001b[0mself\u001b[0m\u001b[0;34m.\u001b[0m\u001b[0m_buffer\u001b[0m\u001b[0;34m[\u001b[0m\u001b[0;34m:\u001b[0m\u001b[0;34m]\u001b[0m\u001b[0;34m\u001b[0m\u001b[0;34m\u001b[0m\u001b[0m\n\u001b[0;32m-> 1008\u001b[0;31m         \u001b[0mself\u001b[0m\u001b[0;34m.\u001b[0m\u001b[0msend\u001b[0m\u001b[0;34m(\u001b[0m\u001b[0mmsg\u001b[0m\u001b[0;34m)\u001b[0m\u001b[0;34m\u001b[0m\u001b[0;34m\u001b[0m\u001b[0m\n\u001b[0m\u001b[1;32m   1009\u001b[0m \u001b[0;34m\u001b[0m\u001b[0m\n",
      "\u001b[0;32m/opt/homebrew/Cellar/python@3.9/3.9.5/Frameworks/Python.framework/Versions/3.9/lib/python3.9/http/client.py\u001b[0m in \u001b[0;36msend\u001b[0;34m(self, data)\u001b[0m\n\u001b[1;32m    947\u001b[0m             \u001b[0;32mif\u001b[0m \u001b[0mself\u001b[0m\u001b[0;34m.\u001b[0m\u001b[0mauto_open\u001b[0m\u001b[0;34m:\u001b[0m\u001b[0;34m\u001b[0m\u001b[0;34m\u001b[0m\u001b[0m\n\u001b[0;32m--> 948\u001b[0;31m                 \u001b[0mself\u001b[0m\u001b[0;34m.\u001b[0m\u001b[0mconnect\u001b[0m\u001b[0;34m(\u001b[0m\u001b[0;34m)\u001b[0m\u001b[0;34m\u001b[0m\u001b[0;34m\u001b[0m\u001b[0m\n\u001b[0m\u001b[1;32m    949\u001b[0m             \u001b[0;32melse\u001b[0m\u001b[0;34m:\u001b[0m\u001b[0;34m\u001b[0m\u001b[0;34m\u001b[0m\u001b[0m\n",
      "\u001b[0;32m/opt/homebrew/Cellar/python@3.9/3.9.5/Frameworks/Python.framework/Versions/3.9/lib/python3.9/http/client.py\u001b[0m in \u001b[0;36mconnect\u001b[0;34m(self)\u001b[0m\n\u001b[1;32m   1414\u001b[0m \u001b[0;34m\u001b[0m\u001b[0m\n\u001b[0;32m-> 1415\u001b[0;31m             \u001b[0msuper\u001b[0m\u001b[0;34m(\u001b[0m\u001b[0;34m)\u001b[0m\u001b[0;34m.\u001b[0m\u001b[0mconnect\u001b[0m\u001b[0;34m(\u001b[0m\u001b[0;34m)\u001b[0m\u001b[0;34m\u001b[0m\u001b[0;34m\u001b[0m\u001b[0m\n\u001b[0m\u001b[1;32m   1416\u001b[0m \u001b[0;34m\u001b[0m\u001b[0m\n",
      "\u001b[0;32m/opt/homebrew/Cellar/python@3.9/3.9.5/Frameworks/Python.framework/Versions/3.9/lib/python3.9/http/client.py\u001b[0m in \u001b[0;36mconnect\u001b[0;34m(self)\u001b[0m\n\u001b[1;32m    918\u001b[0m         \u001b[0;34m\"\"\"Connect to the host and port specified in __init__.\"\"\"\u001b[0m\u001b[0;34m\u001b[0m\u001b[0;34m\u001b[0m\u001b[0m\n\u001b[0;32m--> 919\u001b[0;31m         self.sock = self._create_connection(\n\u001b[0m\u001b[1;32m    920\u001b[0m             (self.host,self.port), self.timeout, self.source_address)\n",
      "\u001b[0;32m/opt/homebrew/Cellar/python@3.9/3.9.5/Frameworks/Python.framework/Versions/3.9/lib/python3.9/socket.py\u001b[0m in \u001b[0;36mcreate_connection\u001b[0;34m(address, timeout, source_address)\u001b[0m\n\u001b[1;32m    821\u001b[0m     \u001b[0merr\u001b[0m \u001b[0;34m=\u001b[0m \u001b[0;32mNone\u001b[0m\u001b[0;34m\u001b[0m\u001b[0;34m\u001b[0m\u001b[0m\n\u001b[0;32m--> 822\u001b[0;31m     \u001b[0;32mfor\u001b[0m \u001b[0mres\u001b[0m \u001b[0;32min\u001b[0m \u001b[0mgetaddrinfo\u001b[0m\u001b[0;34m(\u001b[0m\u001b[0mhost\u001b[0m\u001b[0;34m,\u001b[0m \u001b[0mport\u001b[0m\u001b[0;34m,\u001b[0m \u001b[0;36m0\u001b[0m\u001b[0;34m,\u001b[0m \u001b[0mSOCK_STREAM\u001b[0m\u001b[0;34m)\u001b[0m\u001b[0;34m:\u001b[0m\u001b[0;34m\u001b[0m\u001b[0;34m\u001b[0m\u001b[0m\n\u001b[0m\u001b[1;32m    823\u001b[0m         \u001b[0maf\u001b[0m\u001b[0;34m,\u001b[0m \u001b[0msocktype\u001b[0m\u001b[0;34m,\u001b[0m \u001b[0mproto\u001b[0m\u001b[0;34m,\u001b[0m \u001b[0mcanonname\u001b[0m\u001b[0;34m,\u001b[0m \u001b[0msa\u001b[0m \u001b[0;34m=\u001b[0m \u001b[0mres\u001b[0m\u001b[0;34m\u001b[0m\u001b[0;34m\u001b[0m\u001b[0m\n",
      "\u001b[0;32m/opt/homebrew/Cellar/python@3.9/3.9.5/Frameworks/Python.framework/Versions/3.9/lib/python3.9/socket.py\u001b[0m in \u001b[0;36mgetaddrinfo\u001b[0;34m(host, port, family, type, proto, flags)\u001b[0m\n\u001b[1;32m    952\u001b[0m     \u001b[0maddrlist\u001b[0m \u001b[0;34m=\u001b[0m \u001b[0;34m[\u001b[0m\u001b[0;34m]\u001b[0m\u001b[0;34m\u001b[0m\u001b[0;34m\u001b[0m\u001b[0m\n\u001b[0;32m--> 953\u001b[0;31m     \u001b[0;32mfor\u001b[0m \u001b[0mres\u001b[0m \u001b[0;32min\u001b[0m \u001b[0m_socket\u001b[0m\u001b[0;34m.\u001b[0m\u001b[0mgetaddrinfo\u001b[0m\u001b[0;34m(\u001b[0m\u001b[0mhost\u001b[0m\u001b[0;34m,\u001b[0m \u001b[0mport\u001b[0m\u001b[0;34m,\u001b[0m \u001b[0mfamily\u001b[0m\u001b[0;34m,\u001b[0m \u001b[0mtype\u001b[0m\u001b[0;34m,\u001b[0m \u001b[0mproto\u001b[0m\u001b[0;34m,\u001b[0m \u001b[0mflags\u001b[0m\u001b[0;34m)\u001b[0m\u001b[0;34m:\u001b[0m\u001b[0;34m\u001b[0m\u001b[0;34m\u001b[0m\u001b[0m\n\u001b[0m\u001b[1;32m    954\u001b[0m         \u001b[0maf\u001b[0m\u001b[0;34m,\u001b[0m \u001b[0msocktype\u001b[0m\u001b[0;34m,\u001b[0m \u001b[0mproto\u001b[0m\u001b[0;34m,\u001b[0m \u001b[0mcanonname\u001b[0m\u001b[0;34m,\u001b[0m \u001b[0msa\u001b[0m \u001b[0;34m=\u001b[0m \u001b[0mres\u001b[0m\u001b[0;34m\u001b[0m\u001b[0;34m\u001b[0m\u001b[0m\n",
      "\u001b[0;31mgaierror\u001b[0m: [Errno 8] nodename nor servname provided, or not known",
      "\nDuring handling of the above exception, another exception occurred:\n",
      "\u001b[0;31mURLError\u001b[0m                                  Traceback (most recent call last)",
      "\u001b[0;32m<ipython-input-123-d0f28274388f>\u001b[0m in \u001b[0;36m<module>\u001b[0;34m\u001b[0m\n\u001b[1;32m      1\u001b[0m \u001b[0;31m# 1) header=none 옵션으로 컬럼 없이 데이터 읽기\u001b[0m\u001b[0;34m\u001b[0m\u001b[0;34m\u001b[0m\u001b[0;34m\u001b[0m\u001b[0m\n\u001b[1;32m      2\u001b[0m \u001b[0;31m# 2) df.columns에 새로운 컬럼명 저장하기\u001b[0m\u001b[0;34m\u001b[0m\u001b[0;34m\u001b[0m\u001b[0;34m\u001b[0m\u001b[0m\n\u001b[0;32m----> 3\u001b[0;31m \u001b[0msample_df\u001b[0m \u001b[0;34m=\u001b[0m \u001b[0mpd\u001b[0m\u001b[0;34m.\u001b[0m\u001b[0mread_excel\u001b[0m\u001b[0;34m(\u001b[0m\u001b[0murl\u001b[0m\u001b[0;34m,\u001b[0m \u001b[0mheader\u001b[0m\u001b[0;34m=\u001b[0m\u001b[0;32mNone\u001b[0m\u001b[0;34m)\u001b[0m\u001b[0;34m\u001b[0m\u001b[0;34m\u001b[0m\u001b[0m\n\u001b[0m\u001b[1;32m      4\u001b[0m \u001b[0msample_df\u001b[0m\u001b[0;34m.\u001b[0m\u001b[0mcolumns\u001b[0m \u001b[0;34m=\u001b[0m \u001b[0;34m[\u001b[0m\u001b[0;34m'name'\u001b[0m\u001b[0;34m,\u001b[0m \u001b[0;34m'age'\u001b[0m\u001b[0;34m,\u001b[0m \u001b[0;34m'score'\u001b[0m\u001b[0;34m,\u001b[0m \u001b[0;34m'grade'\u001b[0m\u001b[0;34m,\u001b[0m \u001b[0;34m'subject'\u001b[0m\u001b[0;34m]\u001b[0m\u001b[0;34m\u001b[0m\u001b[0;34m\u001b[0m\u001b[0m\n\u001b[1;32m      5\u001b[0m \u001b[0;34m\u001b[0m\u001b[0m\n",
      "\u001b[0;32m/opt/homebrew/lib/python3.9/site-packages/pandas/util/_decorators.py\u001b[0m in \u001b[0;36mwrapper\u001b[0;34m(*args, **kwargs)\u001b[0m\n\u001b[1;32m    297\u001b[0m                 )\n\u001b[1;32m    298\u001b[0m                 \u001b[0mwarnings\u001b[0m\u001b[0;34m.\u001b[0m\u001b[0mwarn\u001b[0m\u001b[0;34m(\u001b[0m\u001b[0mmsg\u001b[0m\u001b[0;34m,\u001b[0m \u001b[0mFutureWarning\u001b[0m\u001b[0;34m,\u001b[0m \u001b[0mstacklevel\u001b[0m\u001b[0;34m=\u001b[0m\u001b[0mstacklevel\u001b[0m\u001b[0;34m)\u001b[0m\u001b[0;34m\u001b[0m\u001b[0;34m\u001b[0m\u001b[0m\n\u001b[0;32m--> 299\u001b[0;31m             \u001b[0;32mreturn\u001b[0m \u001b[0mfunc\u001b[0m\u001b[0;34m(\u001b[0m\u001b[0;34m*\u001b[0m\u001b[0margs\u001b[0m\u001b[0;34m,\u001b[0m \u001b[0;34m**\u001b[0m\u001b[0mkwargs\u001b[0m\u001b[0;34m)\u001b[0m\u001b[0;34m\u001b[0m\u001b[0;34m\u001b[0m\u001b[0m\n\u001b[0m\u001b[1;32m    300\u001b[0m \u001b[0;34m\u001b[0m\u001b[0m\n\u001b[1;32m    301\u001b[0m         \u001b[0;32mreturn\u001b[0m \u001b[0mwrapper\u001b[0m\u001b[0;34m\u001b[0m\u001b[0;34m\u001b[0m\u001b[0m\n",
      "\u001b[0;32m/opt/homebrew/lib/python3.9/site-packages/pandas/io/excel/_base.py\u001b[0m in \u001b[0;36mread_excel\u001b[0;34m(io, sheet_name, header, names, index_col, usecols, squeeze, dtype, engine, converters, true_values, false_values, skiprows, nrows, na_values, keep_default_na, na_filter, verbose, parse_dates, date_parser, thousands, comment, skipfooter, convert_float, mangle_dupe_cols, storage_options)\u001b[0m\n\u001b[1;32m    334\u001b[0m     \u001b[0;32mif\u001b[0m \u001b[0;32mnot\u001b[0m \u001b[0misinstance\u001b[0m\u001b[0;34m(\u001b[0m\u001b[0mio\u001b[0m\u001b[0;34m,\u001b[0m \u001b[0mExcelFile\u001b[0m\u001b[0;34m)\u001b[0m\u001b[0;34m:\u001b[0m\u001b[0;34m\u001b[0m\u001b[0;34m\u001b[0m\u001b[0m\n\u001b[1;32m    335\u001b[0m         \u001b[0mshould_close\u001b[0m \u001b[0;34m=\u001b[0m \u001b[0;32mTrue\u001b[0m\u001b[0;34m\u001b[0m\u001b[0;34m\u001b[0m\u001b[0m\n\u001b[0;32m--> 336\u001b[0;31m         \u001b[0mio\u001b[0m \u001b[0;34m=\u001b[0m \u001b[0mExcelFile\u001b[0m\u001b[0;34m(\u001b[0m\u001b[0mio\u001b[0m\u001b[0;34m,\u001b[0m \u001b[0mstorage_options\u001b[0m\u001b[0;34m=\u001b[0m\u001b[0mstorage_options\u001b[0m\u001b[0;34m,\u001b[0m \u001b[0mengine\u001b[0m\u001b[0;34m=\u001b[0m\u001b[0mengine\u001b[0m\u001b[0;34m)\u001b[0m\u001b[0;34m\u001b[0m\u001b[0;34m\u001b[0m\u001b[0m\n\u001b[0m\u001b[1;32m    337\u001b[0m     \u001b[0;32melif\u001b[0m \u001b[0mengine\u001b[0m \u001b[0;32mand\u001b[0m \u001b[0mengine\u001b[0m \u001b[0;34m!=\u001b[0m \u001b[0mio\u001b[0m\u001b[0;34m.\u001b[0m\u001b[0mengine\u001b[0m\u001b[0;34m:\u001b[0m\u001b[0;34m\u001b[0m\u001b[0;34m\u001b[0m\u001b[0m\n\u001b[1;32m    338\u001b[0m         raise ValueError(\n",
      "\u001b[0;32m/opt/homebrew/lib/python3.9/site-packages/pandas/io/excel/_base.py\u001b[0m in \u001b[0;36m__init__\u001b[0;34m(self, path_or_buffer, engine, storage_options)\u001b[0m\n\u001b[1;32m   1078\u001b[0m                 \u001b[0mext\u001b[0m \u001b[0;34m=\u001b[0m \u001b[0;34m\"xls\"\u001b[0m\u001b[0;34m\u001b[0m\u001b[0;34m\u001b[0m\u001b[0m\n\u001b[1;32m   1079\u001b[0m             \u001b[0;32melse\u001b[0m\u001b[0;34m:\u001b[0m\u001b[0;34m\u001b[0m\u001b[0;34m\u001b[0m\u001b[0m\n\u001b[0;32m-> 1080\u001b[0;31m                 ext = inspect_excel_format(\n\u001b[0m\u001b[1;32m   1081\u001b[0m                     \u001b[0mcontent\u001b[0m\u001b[0;34m=\u001b[0m\u001b[0mpath_or_buffer\u001b[0m\u001b[0;34m,\u001b[0m \u001b[0mstorage_options\u001b[0m\u001b[0;34m=\u001b[0m\u001b[0mstorage_options\u001b[0m\u001b[0;34m\u001b[0m\u001b[0;34m\u001b[0m\u001b[0m\n\u001b[1;32m   1082\u001b[0m                 )\n",
      "\u001b[0;32m/opt/homebrew/lib/python3.9/site-packages/pandas/io/excel/_base.py\u001b[0m in \u001b[0;36minspect_excel_format\u001b[0;34m(path, content, storage_options)\u001b[0m\n\u001b[1;32m    956\u001b[0m     \u001b[0;32massert\u001b[0m \u001b[0mcontent_or_path\u001b[0m \u001b[0;32mis\u001b[0m \u001b[0;32mnot\u001b[0m \u001b[0;32mNone\u001b[0m\u001b[0;34m\u001b[0m\u001b[0;34m\u001b[0m\u001b[0m\n\u001b[1;32m    957\u001b[0m \u001b[0;34m\u001b[0m\u001b[0m\n\u001b[0;32m--> 958\u001b[0;31m     with get_handle(\n\u001b[0m\u001b[1;32m    959\u001b[0m         \u001b[0mcontent_or_path\u001b[0m\u001b[0;34m,\u001b[0m \u001b[0;34m\"rb\"\u001b[0m\u001b[0;34m,\u001b[0m \u001b[0mstorage_options\u001b[0m\u001b[0;34m=\u001b[0m\u001b[0mstorage_options\u001b[0m\u001b[0;34m,\u001b[0m \u001b[0mis_text\u001b[0m\u001b[0;34m=\u001b[0m\u001b[0;32mFalse\u001b[0m\u001b[0;34m\u001b[0m\u001b[0;34m\u001b[0m\u001b[0m\n\u001b[1;32m    960\u001b[0m     ) as handle:\n",
      "\u001b[0;32m/opt/homebrew/lib/python3.9/site-packages/pandas/io/common.py\u001b[0m in \u001b[0;36mget_handle\u001b[0;34m(path_or_buf, mode, encoding, compression, memory_map, is_text, errors, storage_options)\u001b[0m\n\u001b[1;32m    556\u001b[0m \u001b[0;34m\u001b[0m\u001b[0m\n\u001b[1;32m    557\u001b[0m     \u001b[0;31m# open URLs\u001b[0m\u001b[0;34m\u001b[0m\u001b[0;34m\u001b[0m\u001b[0;34m\u001b[0m\u001b[0m\n\u001b[0;32m--> 558\u001b[0;31m     ioargs = _get_filepath_or_buffer(\n\u001b[0m\u001b[1;32m    559\u001b[0m         \u001b[0mpath_or_buf\u001b[0m\u001b[0;34m,\u001b[0m\u001b[0;34m\u001b[0m\u001b[0;34m\u001b[0m\u001b[0m\n\u001b[1;32m    560\u001b[0m         \u001b[0mencoding\u001b[0m\u001b[0;34m=\u001b[0m\u001b[0mencoding\u001b[0m\u001b[0;34m,\u001b[0m\u001b[0;34m\u001b[0m\u001b[0;34m\u001b[0m\u001b[0m\n",
      "\u001b[0;32m/opt/homebrew/lib/python3.9/site-packages/pandas/io/common.py\u001b[0m in \u001b[0;36m_get_filepath_or_buffer\u001b[0;34m(filepath_or_buffer, encoding, compression, mode, storage_options)\u001b[0m\n\u001b[1;32m    287\u001b[0m                 \u001b[0;34m\"storage_options passed with file object or non-fsspec file path\"\u001b[0m\u001b[0;34m\u001b[0m\u001b[0;34m\u001b[0m\u001b[0m\n\u001b[1;32m    288\u001b[0m             )\n\u001b[0;32m--> 289\u001b[0;31m         \u001b[0mreq\u001b[0m \u001b[0;34m=\u001b[0m \u001b[0murlopen\u001b[0m\u001b[0;34m(\u001b[0m\u001b[0mfilepath_or_buffer\u001b[0m\u001b[0;34m)\u001b[0m\u001b[0;34m\u001b[0m\u001b[0;34m\u001b[0m\u001b[0m\n\u001b[0m\u001b[1;32m    290\u001b[0m         \u001b[0mcontent_encoding\u001b[0m \u001b[0;34m=\u001b[0m \u001b[0mreq\u001b[0m\u001b[0;34m.\u001b[0m\u001b[0mheaders\u001b[0m\u001b[0;34m.\u001b[0m\u001b[0mget\u001b[0m\u001b[0;34m(\u001b[0m\u001b[0;34m\"Content-Encoding\"\u001b[0m\u001b[0;34m,\u001b[0m \u001b[0;32mNone\u001b[0m\u001b[0;34m)\u001b[0m\u001b[0;34m\u001b[0m\u001b[0;34m\u001b[0m\u001b[0m\n\u001b[1;32m    291\u001b[0m         \u001b[0;32mif\u001b[0m \u001b[0mcontent_encoding\u001b[0m \u001b[0;34m==\u001b[0m \u001b[0;34m\"gzip\"\u001b[0m\u001b[0;34m:\u001b[0m\u001b[0;34m\u001b[0m\u001b[0;34m\u001b[0m\u001b[0m\n",
      "\u001b[0;32m/opt/homebrew/lib/python3.9/site-packages/pandas/io/common.py\u001b[0m in \u001b[0;36murlopen\u001b[0;34m(*args, **kwargs)\u001b[0m\n\u001b[1;32m    193\u001b[0m     \u001b[0;32mimport\u001b[0m \u001b[0murllib\u001b[0m\u001b[0;34m.\u001b[0m\u001b[0mrequest\u001b[0m\u001b[0;34m\u001b[0m\u001b[0;34m\u001b[0m\u001b[0m\n\u001b[1;32m    194\u001b[0m \u001b[0;34m\u001b[0m\u001b[0m\n\u001b[0;32m--> 195\u001b[0;31m     \u001b[0;32mreturn\u001b[0m \u001b[0murllib\u001b[0m\u001b[0;34m.\u001b[0m\u001b[0mrequest\u001b[0m\u001b[0;34m.\u001b[0m\u001b[0murlopen\u001b[0m\u001b[0;34m(\u001b[0m\u001b[0;34m*\u001b[0m\u001b[0margs\u001b[0m\u001b[0;34m,\u001b[0m \u001b[0;34m**\u001b[0m\u001b[0mkwargs\u001b[0m\u001b[0;34m)\u001b[0m\u001b[0;34m\u001b[0m\u001b[0;34m\u001b[0m\u001b[0m\n\u001b[0m\u001b[1;32m    196\u001b[0m \u001b[0;34m\u001b[0m\u001b[0m\n\u001b[1;32m    197\u001b[0m \u001b[0;34m\u001b[0m\u001b[0m\n",
      "\u001b[0;32m/opt/homebrew/Cellar/python@3.9/3.9.5/Frameworks/Python.framework/Versions/3.9/lib/python3.9/urllib/request.py\u001b[0m in \u001b[0;36murlopen\u001b[0;34m(url, data, timeout, cafile, capath, cadefault, context)\u001b[0m\n\u001b[1;32m    212\u001b[0m     \u001b[0;32melse\u001b[0m\u001b[0;34m:\u001b[0m\u001b[0;34m\u001b[0m\u001b[0;34m\u001b[0m\u001b[0m\n\u001b[1;32m    213\u001b[0m         \u001b[0mopener\u001b[0m \u001b[0;34m=\u001b[0m \u001b[0m_opener\u001b[0m\u001b[0;34m\u001b[0m\u001b[0;34m\u001b[0m\u001b[0m\n\u001b[0;32m--> 214\u001b[0;31m     \u001b[0;32mreturn\u001b[0m \u001b[0mopener\u001b[0m\u001b[0;34m.\u001b[0m\u001b[0mopen\u001b[0m\u001b[0;34m(\u001b[0m\u001b[0murl\u001b[0m\u001b[0;34m,\u001b[0m \u001b[0mdata\u001b[0m\u001b[0;34m,\u001b[0m \u001b[0mtimeout\u001b[0m\u001b[0;34m)\u001b[0m\u001b[0;34m\u001b[0m\u001b[0;34m\u001b[0m\u001b[0m\n\u001b[0m\u001b[1;32m    215\u001b[0m \u001b[0;34m\u001b[0m\u001b[0m\n\u001b[1;32m    216\u001b[0m \u001b[0;32mdef\u001b[0m \u001b[0minstall_opener\u001b[0m\u001b[0;34m(\u001b[0m\u001b[0mopener\u001b[0m\u001b[0;34m)\u001b[0m\u001b[0;34m:\u001b[0m\u001b[0;34m\u001b[0m\u001b[0;34m\u001b[0m\u001b[0m\n",
      "\u001b[0;32m/opt/homebrew/Cellar/python@3.9/3.9.5/Frameworks/Python.framework/Versions/3.9/lib/python3.9/urllib/request.py\u001b[0m in \u001b[0;36mopen\u001b[0;34m(self, fullurl, data, timeout)\u001b[0m\n\u001b[1;32m    515\u001b[0m \u001b[0;34m\u001b[0m\u001b[0m\n\u001b[1;32m    516\u001b[0m         \u001b[0msys\u001b[0m\u001b[0;34m.\u001b[0m\u001b[0maudit\u001b[0m\u001b[0;34m(\u001b[0m\u001b[0;34m'urllib.Request'\u001b[0m\u001b[0;34m,\u001b[0m \u001b[0mreq\u001b[0m\u001b[0;34m.\u001b[0m\u001b[0mfull_url\u001b[0m\u001b[0;34m,\u001b[0m \u001b[0mreq\u001b[0m\u001b[0;34m.\u001b[0m\u001b[0mdata\u001b[0m\u001b[0;34m,\u001b[0m \u001b[0mreq\u001b[0m\u001b[0;34m.\u001b[0m\u001b[0mheaders\u001b[0m\u001b[0;34m,\u001b[0m \u001b[0mreq\u001b[0m\u001b[0;34m.\u001b[0m\u001b[0mget_method\u001b[0m\u001b[0;34m(\u001b[0m\u001b[0;34m)\u001b[0m\u001b[0;34m)\u001b[0m\u001b[0;34m\u001b[0m\u001b[0;34m\u001b[0m\u001b[0m\n\u001b[0;32m--> 517\u001b[0;31m         \u001b[0mresponse\u001b[0m \u001b[0;34m=\u001b[0m \u001b[0mself\u001b[0m\u001b[0;34m.\u001b[0m\u001b[0m_open\u001b[0m\u001b[0;34m(\u001b[0m\u001b[0mreq\u001b[0m\u001b[0;34m,\u001b[0m \u001b[0mdata\u001b[0m\u001b[0;34m)\u001b[0m\u001b[0;34m\u001b[0m\u001b[0;34m\u001b[0m\u001b[0m\n\u001b[0m\u001b[1;32m    518\u001b[0m \u001b[0;34m\u001b[0m\u001b[0m\n\u001b[1;32m    519\u001b[0m         \u001b[0;31m# post-process response\u001b[0m\u001b[0;34m\u001b[0m\u001b[0;34m\u001b[0m\u001b[0;34m\u001b[0m\u001b[0m\n",
      "\u001b[0;32m/opt/homebrew/Cellar/python@3.9/3.9.5/Frameworks/Python.framework/Versions/3.9/lib/python3.9/urllib/request.py\u001b[0m in \u001b[0;36m_open\u001b[0;34m(self, req, data)\u001b[0m\n\u001b[1;32m    532\u001b[0m \u001b[0;34m\u001b[0m\u001b[0m\n\u001b[1;32m    533\u001b[0m         \u001b[0mprotocol\u001b[0m \u001b[0;34m=\u001b[0m \u001b[0mreq\u001b[0m\u001b[0;34m.\u001b[0m\u001b[0mtype\u001b[0m\u001b[0;34m\u001b[0m\u001b[0;34m\u001b[0m\u001b[0m\n\u001b[0;32m--> 534\u001b[0;31m         result = self._call_chain(self.handle_open, protocol, protocol +\n\u001b[0m\u001b[1;32m    535\u001b[0m                                   '_open', req)\n\u001b[1;32m    536\u001b[0m         \u001b[0;32mif\u001b[0m \u001b[0mresult\u001b[0m\u001b[0;34m:\u001b[0m\u001b[0;34m\u001b[0m\u001b[0;34m\u001b[0m\u001b[0m\n",
      "\u001b[0;32m/opt/homebrew/Cellar/python@3.9/3.9.5/Frameworks/Python.framework/Versions/3.9/lib/python3.9/urllib/request.py\u001b[0m in \u001b[0;36m_call_chain\u001b[0;34m(self, chain, kind, meth_name, *args)\u001b[0m\n\u001b[1;32m    492\u001b[0m         \u001b[0;32mfor\u001b[0m \u001b[0mhandler\u001b[0m \u001b[0;32min\u001b[0m \u001b[0mhandlers\u001b[0m\u001b[0;34m:\u001b[0m\u001b[0;34m\u001b[0m\u001b[0;34m\u001b[0m\u001b[0m\n\u001b[1;32m    493\u001b[0m             \u001b[0mfunc\u001b[0m \u001b[0;34m=\u001b[0m \u001b[0mgetattr\u001b[0m\u001b[0;34m(\u001b[0m\u001b[0mhandler\u001b[0m\u001b[0;34m,\u001b[0m \u001b[0mmeth_name\u001b[0m\u001b[0;34m)\u001b[0m\u001b[0;34m\u001b[0m\u001b[0;34m\u001b[0m\u001b[0m\n\u001b[0;32m--> 494\u001b[0;31m             \u001b[0mresult\u001b[0m \u001b[0;34m=\u001b[0m \u001b[0mfunc\u001b[0m\u001b[0;34m(\u001b[0m\u001b[0;34m*\u001b[0m\u001b[0margs\u001b[0m\u001b[0;34m)\u001b[0m\u001b[0;34m\u001b[0m\u001b[0;34m\u001b[0m\u001b[0m\n\u001b[0m\u001b[1;32m    495\u001b[0m             \u001b[0;32mif\u001b[0m \u001b[0mresult\u001b[0m \u001b[0;32mis\u001b[0m \u001b[0;32mnot\u001b[0m \u001b[0;32mNone\u001b[0m\u001b[0;34m:\u001b[0m\u001b[0;34m\u001b[0m\u001b[0;34m\u001b[0m\u001b[0m\n\u001b[1;32m    496\u001b[0m                 \u001b[0;32mreturn\u001b[0m \u001b[0mresult\u001b[0m\u001b[0;34m\u001b[0m\u001b[0;34m\u001b[0m\u001b[0m\n",
      "\u001b[0;32m/opt/homebrew/Cellar/python@3.9/3.9.5/Frameworks/Python.framework/Versions/3.9/lib/python3.9/urllib/request.py\u001b[0m in \u001b[0;36mhttps_open\u001b[0;34m(self, req)\u001b[0m\n\u001b[1;32m   1387\u001b[0m \u001b[0;34m\u001b[0m\u001b[0m\n\u001b[1;32m   1388\u001b[0m         \u001b[0;32mdef\u001b[0m \u001b[0mhttps_open\u001b[0m\u001b[0;34m(\u001b[0m\u001b[0mself\u001b[0m\u001b[0;34m,\u001b[0m \u001b[0mreq\u001b[0m\u001b[0;34m)\u001b[0m\u001b[0;34m:\u001b[0m\u001b[0;34m\u001b[0m\u001b[0;34m\u001b[0m\u001b[0m\n\u001b[0;32m-> 1389\u001b[0;31m             return self.do_open(http.client.HTTPSConnection, req,\n\u001b[0m\u001b[1;32m   1390\u001b[0m                 context=self._context, check_hostname=self._check_hostname)\n\u001b[1;32m   1391\u001b[0m \u001b[0;34m\u001b[0m\u001b[0m\n",
      "\u001b[0;32m/opt/homebrew/Cellar/python@3.9/3.9.5/Frameworks/Python.framework/Versions/3.9/lib/python3.9/urllib/request.py\u001b[0m in \u001b[0;36mdo_open\u001b[0;34m(self, http_class, req, **http_conn_args)\u001b[0m\n\u001b[1;32m   1347\u001b[0m                           encode_chunked=req.has_header('Transfer-encoding'))\n\u001b[1;32m   1348\u001b[0m             \u001b[0;32mexcept\u001b[0m \u001b[0mOSError\u001b[0m \u001b[0;32mas\u001b[0m \u001b[0merr\u001b[0m\u001b[0;34m:\u001b[0m \u001b[0;31m# timeout error\u001b[0m\u001b[0;34m\u001b[0m\u001b[0;34m\u001b[0m\u001b[0m\n\u001b[0;32m-> 1349\u001b[0;31m                 \u001b[0;32mraise\u001b[0m \u001b[0mURLError\u001b[0m\u001b[0;34m(\u001b[0m\u001b[0merr\u001b[0m\u001b[0;34m)\u001b[0m\u001b[0;34m\u001b[0m\u001b[0;34m\u001b[0m\u001b[0m\n\u001b[0m\u001b[1;32m   1350\u001b[0m             \u001b[0mr\u001b[0m \u001b[0;34m=\u001b[0m \u001b[0mh\u001b[0m\u001b[0;34m.\u001b[0m\u001b[0mgetresponse\u001b[0m\u001b[0;34m(\u001b[0m\u001b[0;34m)\u001b[0m\u001b[0;34m\u001b[0m\u001b[0;34m\u001b[0m\u001b[0m\n\u001b[1;32m   1351\u001b[0m         \u001b[0;32mexcept\u001b[0m\u001b[0;34m:\u001b[0m\u001b[0;34m\u001b[0m\u001b[0;34m\u001b[0m\u001b[0m\n",
      "\u001b[0;31mURLError\u001b[0m: <urlopen error [Errno 8] nodename nor servname provided, or not known>"
     ]
    }
   ],
   "source": [
    "# 1) header=none 옵션으로 컬럼 없이 데이터 읽기\n",
    "# 2) df.columns에 새로운 컬럼명 저장하기\n",
    "sample_df = pd.read_excel(url, header=None)\n",
    "sample_df.columns = ['name', 'age', 'score', 'grade', 'subject']\n",
    "\n",
    "print('\\n Read Excel by header=none')\n",
    "print(sample_df)"
   ]
  },
  {
   "cell_type": "code",
   "execution_count": null,
   "metadata": {},
   "outputs": [],
   "source": [
    "# 'students' sheet에 있는 데이터 읽기\n",
    "print('\\n Read Excel on students sheet')\n",
    "student_df = pd.read_excel(url, sheet_name='students')\n",
    "print(student_df)"
   ]
  },
  {
   "cell_type": "code",
   "execution_count": null,
   "metadata": {},
   "outputs": [],
   "source": []
  },
  {
   "cell_type": "code",
   "execution_count": null,
   "metadata": {},
   "outputs": [],
   "source": []
  },
  {
   "cell_type": "code",
   "execution_count": null,
   "metadata": {},
   "outputs": [],
   "source": []
  }
 ]
}